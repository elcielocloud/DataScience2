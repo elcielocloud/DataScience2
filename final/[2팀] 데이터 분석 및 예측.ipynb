{
 "cells": [
  {
   "cell_type": "markdown",
   "id": "090ef790-5c2c-4f6d-b06b-273e388d648e",
   "metadata": {},
   "source": [
    "# **대여과다 대여소에 대한 따릉이 수요 예측**"
   ]
  },
  {
   "cell_type": "markdown",
   "id": "b006a9c6-a90a-41dd-a5fd-1756782b661d",
   "metadata": {},
   "source": [
    "## 데이터 설명\n",
    "- 원본 데이터\n",
    "<br>- 상위 30개 대여과다 대여소 추출에 사용: 서울특별시 공공자전거 대여소별 이용정보(월별)\n",
    "<br>- 평일 변수 생성에 사용: 공휴일 데이터 (직접 조사)\n",
    "<br>- 대여 데이터셋에 사용: 2023년 서울특별시 공공자전거 이용정보(시간대별)\n",
    "<br>- 반납 데이터셋에 사용: 2023년 서울특별시 공공자전거 대여이력 정보\n",
    "<br>- 날씨 데이터셋에 사용: 2023년 1시간 단위 날씨 데이터 + 1시간 평균 미세먼지농도 데이터\n",
    "\n",
    "- 전처리 후 데이터 (시각화 및 예측에 사용)\n",
    "<br>- 대여 데이터: 2023년_따릉이대여_날씨_3시간별.csv\n",
    "<br>- 반납 데이터: 2023년_따릉이반납_날씨_3시간별.csv\n",
    "\n",
    "- 종속변수\n",
    "<br>- 대여건수(대여 데이터), 반납건수(반납 데이터)\n",
    "  \n",
    "- 독립변수\n",
    "<br>- 시간대: 0~23시를 3시간 단위로 나눈 시간대 (1: 2-4시, 2: 5-7시, 3: 8-10시, 4: 11-13시, 5: 14-16시, 6: 17-19시, 7: 20-22시, 8: 23-1시)\n",
    "<br>- 대여소번호: 대여건수가 반납건수보다 과도하게 많은 대여소 상위 30곳 (수요 불균형 대여소)\n",
    "<br>- 대여월: 1월-12월\n",
    "<br>- 평일: 평일이면 1, 평일 아니면 0(공휴일, 주말)\n",
    "<br>- 기온: 시간대 별 평균 기온(°C)\n",
    "<br>- 강수량: 시간대 별 평균 강수량(mm)\n",
    "<br>- 풍속: 시간대 별 평균 풍속(m/s)\n",
    "<br>- 습도: 시간대 별 평균 습도(%)\n",
    "<br>- 적설: 시간대 별 평균 눈이 쌓인 정도(cm)\n",
    "<br>- 미세먼지농도: 시간대 별 평균 미세먼지농도(㎍/㎥)"
   ]
  },
  {
   "cell_type": "markdown",
   "id": "6c616ce8-23f8-46d6-b679-d04aca0a8bdd",
   "metadata": {},
   "source": [
    "## 탐색적 데이터 분석 (EDA)"
   ]
  },
  {
   "cell_type": "markdown",
   "id": "4803e3c0-26fa-48ef-b58b-b022e1498be9",
   "metadata": {},
   "source": [
    "#### 대여 데이터"
   ]
  },
  {
   "cell_type": "code",
   "execution_count": 2,
   "id": "3511596d-c3c3-4a77-873f-ec2922080010",
   "metadata": {},
   "outputs": [],
   "source": [
    "import pandas as pd\n",
    "import numpy as np"
   ]
  },
  {
   "cell_type": "code",
   "execution_count": 3,
   "id": "e6a414dc-a8d2-4892-9c8e-ccb3fad181eb",
   "metadata": {},
   "outputs": [],
   "source": [
    "bike_rental = pd.read_csv('2023년_따릉이대여_날씨_3시간별.csv', encoding='cp949', index_col=0)"
   ]
  },
  {
   "cell_type": "code",
   "execution_count": 4,
   "id": "9049ccc7-b8aa-4c25-9d8c-305048046008",
   "metadata": {},
   "outputs": [
    {
     "data": {
      "text/html": [
       "<div>\n",
       "<style scoped>\n",
       "    .dataframe tbody tr th:only-of-type {\n",
       "        vertical-align: middle;\n",
       "    }\n",
       "\n",
       "    .dataframe tbody tr th {\n",
       "        vertical-align: top;\n",
       "    }\n",
       "\n",
       "    .dataframe thead th {\n",
       "        text-align: right;\n",
       "    }\n",
       "</style>\n",
       "<table border=\"1\" class=\"dataframe\">\n",
       "  <thead>\n",
       "    <tr style=\"text-align: right;\">\n",
       "      <th></th>\n",
       "      <th>시간대</th>\n",
       "      <th>기온(°C)</th>\n",
       "      <th>강수량(mm)</th>\n",
       "      <th>풍속(m/s)</th>\n",
       "      <th>습도(%)</th>\n",
       "      <th>적설(cm)</th>\n",
       "      <th>미세먼지농도(㎍/㎥)</th>\n",
       "      <th>대여소번호</th>\n",
       "      <th>대여건수</th>\n",
       "      <th>대여월</th>\n",
       "      <th>평일</th>\n",
       "    </tr>\n",
       "  </thead>\n",
       "  <tbody>\n",
       "    <tr>\n",
       "      <th>0</th>\n",
       "      <td>1</td>\n",
       "      <td>1.533333</td>\n",
       "      <td>0.000000</td>\n",
       "      <td>1.633333</td>\n",
       "      <td>73.333333</td>\n",
       "      <td>0.000000</td>\n",
       "      <td>84.333333</td>\n",
       "      <td>162</td>\n",
       "      <td>0</td>\n",
       "      <td>1</td>\n",
       "      <td>0</td>\n",
       "    </tr>\n",
       "    <tr>\n",
       "      <th>1</th>\n",
       "      <td>1</td>\n",
       "      <td>1.533333</td>\n",
       "      <td>0.000000</td>\n",
       "      <td>1.633333</td>\n",
       "      <td>73.333333</td>\n",
       "      <td>0.000000</td>\n",
       "      <td>84.333333</td>\n",
       "      <td>207</td>\n",
       "      <td>2</td>\n",
       "      <td>1</td>\n",
       "      <td>0</td>\n",
       "    </tr>\n",
       "    <tr>\n",
       "      <th>2</th>\n",
       "      <td>1</td>\n",
       "      <td>1.533333</td>\n",
       "      <td>0.000000</td>\n",
       "      <td>1.633333</td>\n",
       "      <td>73.333333</td>\n",
       "      <td>0.000000</td>\n",
       "      <td>84.333333</td>\n",
       "      <td>213</td>\n",
       "      <td>2</td>\n",
       "      <td>1</td>\n",
       "      <td>0</td>\n",
       "    </tr>\n",
       "    <tr>\n",
       "      <th>3</th>\n",
       "      <td>1</td>\n",
       "      <td>1.533333</td>\n",
       "      <td>0.000000</td>\n",
       "      <td>1.633333</td>\n",
       "      <td>73.333333</td>\n",
       "      <td>0.000000</td>\n",
       "      <td>84.333333</td>\n",
       "      <td>434</td>\n",
       "      <td>1</td>\n",
       "      <td>1</td>\n",
       "      <td>0</td>\n",
       "    </tr>\n",
       "    <tr>\n",
       "      <th>4</th>\n",
       "      <td>1</td>\n",
       "      <td>1.533333</td>\n",
       "      <td>0.000000</td>\n",
       "      <td>1.633333</td>\n",
       "      <td>73.333333</td>\n",
       "      <td>0.000000</td>\n",
       "      <td>84.333333</td>\n",
       "      <td>474</td>\n",
       "      <td>5</td>\n",
       "      <td>1</td>\n",
       "      <td>0</td>\n",
       "    </tr>\n",
       "    <tr>\n",
       "      <th>...</th>\n",
       "      <td>...</td>\n",
       "      <td>...</td>\n",
       "      <td>...</td>\n",
       "      <td>...</td>\n",
       "      <td>...</td>\n",
       "      <td>...</td>\n",
       "      <td>...</td>\n",
       "      <td>...</td>\n",
       "      <td>...</td>\n",
       "      <td>...</td>\n",
       "      <td>...</td>\n",
       "    </tr>\n",
       "    <tr>\n",
       "      <th>87595</th>\n",
       "      <td>8</td>\n",
       "      <td>1.700000</td>\n",
       "      <td>0.566667</td>\n",
       "      <td>2.033333</td>\n",
       "      <td>97.666667</td>\n",
       "      <td>6.566667</td>\n",
       "      <td>26.333333</td>\n",
       "      <td>3758</td>\n",
       "      <td>0</td>\n",
       "      <td>12</td>\n",
       "      <td>0</td>\n",
       "    </tr>\n",
       "    <tr>\n",
       "      <th>87596</th>\n",
       "      <td>8</td>\n",
       "      <td>1.700000</td>\n",
       "      <td>0.566667</td>\n",
       "      <td>2.033333</td>\n",
       "      <td>97.666667</td>\n",
       "      <td>6.566667</td>\n",
       "      <td>26.333333</td>\n",
       "      <td>4009</td>\n",
       "      <td>0</td>\n",
       "      <td>12</td>\n",
       "      <td>0</td>\n",
       "    </tr>\n",
       "    <tr>\n",
       "      <th>87597</th>\n",
       "      <td>8</td>\n",
       "      <td>1.700000</td>\n",
       "      <td>0.566667</td>\n",
       "      <td>2.033333</td>\n",
       "      <td>97.666667</td>\n",
       "      <td>6.566667</td>\n",
       "      <td>26.333333</td>\n",
       "      <td>4221</td>\n",
       "      <td>0</td>\n",
       "      <td>12</td>\n",
       "      <td>0</td>\n",
       "    </tr>\n",
       "    <tr>\n",
       "      <th>87598</th>\n",
       "      <td>8</td>\n",
       "      <td>1.700000</td>\n",
       "      <td>0.566667</td>\n",
       "      <td>2.033333</td>\n",
       "      <td>97.666667</td>\n",
       "      <td>6.566667</td>\n",
       "      <td>26.333333</td>\n",
       "      <td>4591</td>\n",
       "      <td>1</td>\n",
       "      <td>12</td>\n",
       "      <td>0</td>\n",
       "    </tr>\n",
       "    <tr>\n",
       "      <th>87599</th>\n",
       "      <td>8</td>\n",
       "      <td>1.700000</td>\n",
       "      <td>0.566667</td>\n",
       "      <td>2.033333</td>\n",
       "      <td>97.666667</td>\n",
       "      <td>6.566667</td>\n",
       "      <td>26.333333</td>\n",
       "      <td>4621</td>\n",
       "      <td>0</td>\n",
       "      <td>12</td>\n",
       "      <td>0</td>\n",
       "    </tr>\n",
       "  </tbody>\n",
       "</table>\n",
       "<p>87600 rows × 11 columns</p>\n",
       "</div>"
      ],
      "text/plain": [
       "       시간대    기온(°C)   강수량(mm)   풍속(m/s)      습도(%)    적설(cm)  미세먼지농도(㎍/㎥)  \\\n",
       "0        1  1.533333  0.000000  1.633333  73.333333  0.000000    84.333333   \n",
       "1        1  1.533333  0.000000  1.633333  73.333333  0.000000    84.333333   \n",
       "2        1  1.533333  0.000000  1.633333  73.333333  0.000000    84.333333   \n",
       "3        1  1.533333  0.000000  1.633333  73.333333  0.000000    84.333333   \n",
       "4        1  1.533333  0.000000  1.633333  73.333333  0.000000    84.333333   \n",
       "...    ...       ...       ...       ...        ...       ...          ...   \n",
       "87595    8  1.700000  0.566667  2.033333  97.666667  6.566667    26.333333   \n",
       "87596    8  1.700000  0.566667  2.033333  97.666667  6.566667    26.333333   \n",
       "87597    8  1.700000  0.566667  2.033333  97.666667  6.566667    26.333333   \n",
       "87598    8  1.700000  0.566667  2.033333  97.666667  6.566667    26.333333   \n",
       "87599    8  1.700000  0.566667  2.033333  97.666667  6.566667    26.333333   \n",
       "\n",
       "       대여소번호  대여건수  대여월  평일  \n",
       "0        162     0    1   0  \n",
       "1        207     2    1   0  \n",
       "2        213     2    1   0  \n",
       "3        434     1    1   0  \n",
       "4        474     5    1   0  \n",
       "...      ...   ...  ...  ..  \n",
       "87595   3758     0   12   0  \n",
       "87596   4009     0   12   0  \n",
       "87597   4221     0   12   0  \n",
       "87598   4591     1   12   0  \n",
       "87599   4621     0   12   0  \n",
       "\n",
       "[87600 rows x 11 columns]"
      ]
     },
     "execution_count": 4,
     "metadata": {},
     "output_type": "execute_result"
    }
   ],
   "source": [
    "bike_rental"
   ]
  },
  {
   "cell_type": "code",
   "execution_count": 6,
   "id": "a7d4f2c8-118e-4d79-b7fb-f5f86801530f",
   "metadata": {},
   "outputs": [
    {
     "name": "stdout",
     "output_type": "stream",
     "text": [
      "<class 'pandas.core.frame.DataFrame'>\n",
      "Index: 87600 entries, 0 to 87599\n",
      "Data columns (total 11 columns):\n",
      " #   Column       Non-Null Count  Dtype  \n",
      "---  ------       --------------  -----  \n",
      " 0   시간대          87600 non-null  int64  \n",
      " 1   기온(°C)       87600 non-null  float64\n",
      " 2   강수량(mm)      87600 non-null  float64\n",
      " 3   풍속(m/s)      87600 non-null  float64\n",
      " 4   습도(%)        87600 non-null  float64\n",
      " 5   적설(cm)       87600 non-null  float64\n",
      " 6   미세먼지농도(㎍/㎥)  87600 non-null  float64\n",
      " 7   대여소번호        87600 non-null  int64  \n",
      " 8   대여건수         87600 non-null  int64  \n",
      " 9   대여월          87600 non-null  int64  \n",
      " 10  평일           87600 non-null  int64  \n",
      "dtypes: float64(6), int64(5)\n",
      "memory usage: 8.0 MB\n"
     ]
    }
   ],
   "source": [
    "### 데이터 확인\n",
    "bike_rental.info()"
   ]
  },
  {
   "cell_type": "code",
   "execution_count": 7,
   "id": "1d6a9c20-7684-4da9-b54f-104ea2c3641e",
   "metadata": {},
   "outputs": [
    {
     "data": {
      "text/plain": [
       "시간대            category\n",
       "기온(°C)          float64\n",
       "강수량(mm)         float64\n",
       "풍속(m/s)         float64\n",
       "습도(%)           float64\n",
       "적설(cm)          float64\n",
       "미세먼지농도(㎍/㎥)     float64\n",
       "대여소번호          category\n",
       "대여건수              int64\n",
       "대여월            category\n",
       "평일             category\n",
       "dtype: object"
      ]
     },
     "execution_count": 7,
     "metadata": {},
     "output_type": "execute_result"
    }
   ],
   "source": [
    "# 범주형 변수 category로 변경\n",
    "bike_rental['시간대'] = bike_rental['시간대'].astype('category')\n",
    "bike_rental['대여소번호'] = bike_rental['대여소번호'].astype('category')\n",
    "bike_rental['대여월'] = bike_rental['대여월'].astype('category')\n",
    "bike_rental['평일'] = bike_rental['평일'].astype('category')\n",
    "\n",
    "bike_rental.dtypes"
   ]
  },
  {
   "cell_type": "code",
   "execution_count": 8,
   "id": "627489b1-eec1-44ca-9b17-090d5ab003d3",
   "metadata": {},
   "outputs": [
    {
     "data": {
      "text/html": [
       "<div>\n",
       "<style scoped>\n",
       "    .dataframe tbody tr th:only-of-type {\n",
       "        vertical-align: middle;\n",
       "    }\n",
       "\n",
       "    .dataframe tbody tr th {\n",
       "        vertical-align: top;\n",
       "    }\n",
       "\n",
       "    .dataframe thead th {\n",
       "        text-align: right;\n",
       "    }\n",
       "</style>\n",
       "<table border=\"1\" class=\"dataframe\">\n",
       "  <thead>\n",
       "    <tr style=\"text-align: right;\">\n",
       "      <th></th>\n",
       "      <th>count</th>\n",
       "      <th>mean</th>\n",
       "      <th>std</th>\n",
       "      <th>min</th>\n",
       "      <th>25%</th>\n",
       "      <th>50%</th>\n",
       "      <th>75%</th>\n",
       "      <th>max</th>\n",
       "    </tr>\n",
       "  </thead>\n",
       "  <tbody>\n",
       "    <tr>\n",
       "      <th>기온(°C)</th>\n",
       "      <td>87600.0</td>\n",
       "      <td>14.106804</td>\n",
       "      <td>10.921583</td>\n",
       "      <td>-17.066667</td>\n",
       "      <td>5.200000</td>\n",
       "      <td>15.583333</td>\n",
       "      <td>23.566667</td>\n",
       "      <td>35.266667</td>\n",
       "    </tr>\n",
       "    <tr>\n",
       "      <th>강수량(mm)</th>\n",
       "      <td>87600.0</td>\n",
       "      <td>0.182511</td>\n",
       "      <td>1.006807</td>\n",
       "      <td>0.000000</td>\n",
       "      <td>0.000000</td>\n",
       "      <td>0.000000</td>\n",
       "      <td>0.000000</td>\n",
       "      <td>16.033333</td>\n",
       "    </tr>\n",
       "    <tr>\n",
       "      <th>풍속(m/s)</th>\n",
       "      <td>87600.0</td>\n",
       "      <td>2.271164</td>\n",
       "      <td>0.973459</td>\n",
       "      <td>0.133333</td>\n",
       "      <td>1.600000</td>\n",
       "      <td>2.133333</td>\n",
       "      <td>2.833333</td>\n",
       "      <td>7.466667</td>\n",
       "    </tr>\n",
       "    <tr>\n",
       "      <th>습도(%)</th>\n",
       "      <td>87600.0</td>\n",
       "      <td>66.637671</td>\n",
       "      <td>18.598198</td>\n",
       "      <td>16.000000</td>\n",
       "      <td>53.666667</td>\n",
       "      <td>67.666667</td>\n",
       "      <td>81.333333</td>\n",
       "      <td>100.000000</td>\n",
       "    </tr>\n",
       "    <tr>\n",
       "      <th>적설(cm)</th>\n",
       "      <td>87600.0</td>\n",
       "      <td>0.050833</td>\n",
       "      <td>0.505922</td>\n",
       "      <td>0.000000</td>\n",
       "      <td>0.000000</td>\n",
       "      <td>0.000000</td>\n",
       "      <td>0.000000</td>\n",
       "      <td>11.866667</td>\n",
       "    </tr>\n",
       "    <tr>\n",
       "      <th>미세먼지농도(㎍/㎥)</th>\n",
       "      <td>87600.0</td>\n",
       "      <td>39.760274</td>\n",
       "      <td>34.507354</td>\n",
       "      <td>2.000000</td>\n",
       "      <td>20.000000</td>\n",
       "      <td>30.666667</td>\n",
       "      <td>47.666667</td>\n",
       "      <td>391.333333</td>\n",
       "    </tr>\n",
       "    <tr>\n",
       "      <th>대여건수</th>\n",
       "      <td>87600.0</td>\n",
       "      <td>6.450274</td>\n",
       "      <td>8.674609</td>\n",
       "      <td>0.000000</td>\n",
       "      <td>1.000000</td>\n",
       "      <td>4.000000</td>\n",
       "      <td>9.000000</td>\n",
       "      <td>128.000000</td>\n",
       "    </tr>\n",
       "  </tbody>\n",
       "</table>\n",
       "</div>"
      ],
      "text/plain": [
       "               count       mean        std        min        25%        50%  \\\n",
       "기온(°C)       87600.0  14.106804  10.921583 -17.066667   5.200000  15.583333   \n",
       "강수량(mm)      87600.0   0.182511   1.006807   0.000000   0.000000   0.000000   \n",
       "풍속(m/s)      87600.0   2.271164   0.973459   0.133333   1.600000   2.133333   \n",
       "습도(%)        87600.0  66.637671  18.598198  16.000000  53.666667  67.666667   \n",
       "적설(cm)       87600.0   0.050833   0.505922   0.000000   0.000000   0.000000   \n",
       "미세먼지농도(㎍/㎥)  87600.0  39.760274  34.507354   2.000000  20.000000  30.666667   \n",
       "대여건수         87600.0   6.450274   8.674609   0.000000   1.000000   4.000000   \n",
       "\n",
       "                   75%         max  \n",
       "기온(°C)       23.566667   35.266667  \n",
       "강수량(mm)       0.000000   16.033333  \n",
       "풍속(m/s)       2.833333    7.466667  \n",
       "습도(%)        81.333333  100.000000  \n",
       "적설(cm)        0.000000   11.866667  \n",
       "미세먼지농도(㎍/㎥)  47.666667  391.333333  \n",
       "대여건수          9.000000  128.000000  "
      ]
     },
     "execution_count": 8,
     "metadata": {},
     "output_type": "execute_result"
    }
   ],
   "source": [
    "### 기술통계량 확인\n",
    "bike_rental.describe().T"
   ]
  },
  {
   "cell_type": "markdown",
   "id": "364c0f5d-4ca1-4cf6-8415-f0c08c077577",
   "metadata": {},
   "source": [
    "#### 반납 데이터"
   ]
  },
  {
   "cell_type": "code",
   "execution_count": 9,
   "id": "fb642e6d-72f4-4cab-91ce-ec03291016c0",
   "metadata": {},
   "outputs": [],
   "source": [
    "bike_return = pd.read_csv('2023년_따릉이반납_날씨_3시간별.csv', encoding='cp949', index_col=0)"
   ]
  },
  {
   "cell_type": "code",
   "execution_count": 10,
   "id": "f972ca36-e984-49c8-a9ac-2758e8d01b8b",
   "metadata": {},
   "outputs": [
    {
     "data": {
      "text/html": [
       "<div>\n",
       "<style scoped>\n",
       "    .dataframe tbody tr th:only-of-type {\n",
       "        vertical-align: middle;\n",
       "    }\n",
       "\n",
       "    .dataframe tbody tr th {\n",
       "        vertical-align: top;\n",
       "    }\n",
       "\n",
       "    .dataframe thead th {\n",
       "        text-align: right;\n",
       "    }\n",
       "</style>\n",
       "<table border=\"1\" class=\"dataframe\">\n",
       "  <thead>\n",
       "    <tr style=\"text-align: right;\">\n",
       "      <th></th>\n",
       "      <th>시간대</th>\n",
       "      <th>기온(°C)</th>\n",
       "      <th>강수량(mm)</th>\n",
       "      <th>풍속(m/s)</th>\n",
       "      <th>습도(%)</th>\n",
       "      <th>적설(cm)</th>\n",
       "      <th>미세먼지농도(㎍/㎥)</th>\n",
       "      <th>대여소번호</th>\n",
       "      <th>반납건수</th>\n",
       "      <th>반납월</th>\n",
       "      <th>평일</th>\n",
       "    </tr>\n",
       "  </thead>\n",
       "  <tbody>\n",
       "    <tr>\n",
       "      <th>0</th>\n",
       "      <td>1</td>\n",
       "      <td>1.533333</td>\n",
       "      <td>0.000000</td>\n",
       "      <td>1.633333</td>\n",
       "      <td>73.333333</td>\n",
       "      <td>0.000000</td>\n",
       "      <td>84.333333</td>\n",
       "      <td>162</td>\n",
       "      <td>1</td>\n",
       "      <td>1</td>\n",
       "      <td>0</td>\n",
       "    </tr>\n",
       "    <tr>\n",
       "      <th>1</th>\n",
       "      <td>1</td>\n",
       "      <td>1.533333</td>\n",
       "      <td>0.000000</td>\n",
       "      <td>1.633333</td>\n",
       "      <td>73.333333</td>\n",
       "      <td>0.000000</td>\n",
       "      <td>84.333333</td>\n",
       "      <td>207</td>\n",
       "      <td>4</td>\n",
       "      <td>1</td>\n",
       "      <td>0</td>\n",
       "    </tr>\n",
       "    <tr>\n",
       "      <th>2</th>\n",
       "      <td>1</td>\n",
       "      <td>1.533333</td>\n",
       "      <td>0.000000</td>\n",
       "      <td>1.633333</td>\n",
       "      <td>73.333333</td>\n",
       "      <td>0.000000</td>\n",
       "      <td>84.333333</td>\n",
       "      <td>213</td>\n",
       "      <td>2</td>\n",
       "      <td>1</td>\n",
       "      <td>0</td>\n",
       "    </tr>\n",
       "    <tr>\n",
       "      <th>3</th>\n",
       "      <td>1</td>\n",
       "      <td>1.533333</td>\n",
       "      <td>0.000000</td>\n",
       "      <td>1.633333</td>\n",
       "      <td>73.333333</td>\n",
       "      <td>0.000000</td>\n",
       "      <td>84.333333</td>\n",
       "      <td>434</td>\n",
       "      <td>0</td>\n",
       "      <td>1</td>\n",
       "      <td>0</td>\n",
       "    </tr>\n",
       "    <tr>\n",
       "      <th>4</th>\n",
       "      <td>1</td>\n",
       "      <td>1.533333</td>\n",
       "      <td>0.000000</td>\n",
       "      <td>1.633333</td>\n",
       "      <td>73.333333</td>\n",
       "      <td>0.000000</td>\n",
       "      <td>84.333333</td>\n",
       "      <td>474</td>\n",
       "      <td>1</td>\n",
       "      <td>1</td>\n",
       "      <td>0</td>\n",
       "    </tr>\n",
       "    <tr>\n",
       "      <th>...</th>\n",
       "      <td>...</td>\n",
       "      <td>...</td>\n",
       "      <td>...</td>\n",
       "      <td>...</td>\n",
       "      <td>...</td>\n",
       "      <td>...</td>\n",
       "      <td>...</td>\n",
       "      <td>...</td>\n",
       "      <td>...</td>\n",
       "      <td>...</td>\n",
       "      <td>...</td>\n",
       "    </tr>\n",
       "    <tr>\n",
       "      <th>87595</th>\n",
       "      <td>8</td>\n",
       "      <td>1.700000</td>\n",
       "      <td>0.566667</td>\n",
       "      <td>2.033333</td>\n",
       "      <td>97.666667</td>\n",
       "      <td>6.566667</td>\n",
       "      <td>26.333333</td>\n",
       "      <td>3758</td>\n",
       "      <td>0</td>\n",
       "      <td>12</td>\n",
       "      <td>0</td>\n",
       "    </tr>\n",
       "    <tr>\n",
       "      <th>87596</th>\n",
       "      <td>8</td>\n",
       "      <td>1.700000</td>\n",
       "      <td>0.566667</td>\n",
       "      <td>2.033333</td>\n",
       "      <td>97.666667</td>\n",
       "      <td>6.566667</td>\n",
       "      <td>26.333333</td>\n",
       "      <td>4009</td>\n",
       "      <td>0</td>\n",
       "      <td>12</td>\n",
       "      <td>0</td>\n",
       "    </tr>\n",
       "    <tr>\n",
       "      <th>87597</th>\n",
       "      <td>8</td>\n",
       "      <td>1.700000</td>\n",
       "      <td>0.566667</td>\n",
       "      <td>2.033333</td>\n",
       "      <td>97.666667</td>\n",
       "      <td>6.566667</td>\n",
       "      <td>26.333333</td>\n",
       "      <td>4221</td>\n",
       "      <td>0</td>\n",
       "      <td>12</td>\n",
       "      <td>0</td>\n",
       "    </tr>\n",
       "    <tr>\n",
       "      <th>87598</th>\n",
       "      <td>8</td>\n",
       "      <td>1.700000</td>\n",
       "      <td>0.566667</td>\n",
       "      <td>2.033333</td>\n",
       "      <td>97.666667</td>\n",
       "      <td>6.566667</td>\n",
       "      <td>26.333333</td>\n",
       "      <td>4591</td>\n",
       "      <td>0</td>\n",
       "      <td>12</td>\n",
       "      <td>0</td>\n",
       "    </tr>\n",
       "    <tr>\n",
       "      <th>87599</th>\n",
       "      <td>8</td>\n",
       "      <td>1.700000</td>\n",
       "      <td>0.566667</td>\n",
       "      <td>2.033333</td>\n",
       "      <td>97.666667</td>\n",
       "      <td>6.566667</td>\n",
       "      <td>26.333333</td>\n",
       "      <td>4621</td>\n",
       "      <td>0</td>\n",
       "      <td>12</td>\n",
       "      <td>0</td>\n",
       "    </tr>\n",
       "  </tbody>\n",
       "</table>\n",
       "<p>87600 rows × 11 columns</p>\n",
       "</div>"
      ],
      "text/plain": [
       "       시간대    기온(°C)   강수량(mm)   풍속(m/s)      습도(%)    적설(cm)  미세먼지농도(㎍/㎥)  \\\n",
       "0        1  1.533333  0.000000  1.633333  73.333333  0.000000    84.333333   \n",
       "1        1  1.533333  0.000000  1.633333  73.333333  0.000000    84.333333   \n",
       "2        1  1.533333  0.000000  1.633333  73.333333  0.000000    84.333333   \n",
       "3        1  1.533333  0.000000  1.633333  73.333333  0.000000    84.333333   \n",
       "4        1  1.533333  0.000000  1.633333  73.333333  0.000000    84.333333   \n",
       "...    ...       ...       ...       ...        ...       ...          ...   \n",
       "87595    8  1.700000  0.566667  2.033333  97.666667  6.566667    26.333333   \n",
       "87596    8  1.700000  0.566667  2.033333  97.666667  6.566667    26.333333   \n",
       "87597    8  1.700000  0.566667  2.033333  97.666667  6.566667    26.333333   \n",
       "87598    8  1.700000  0.566667  2.033333  97.666667  6.566667    26.333333   \n",
       "87599    8  1.700000  0.566667  2.033333  97.666667  6.566667    26.333333   \n",
       "\n",
       "       대여소번호  반납건수  반납월  평일  \n",
       "0        162     1    1   0  \n",
       "1        207     4    1   0  \n",
       "2        213     2    1   0  \n",
       "3        434     0    1   0  \n",
       "4        474     1    1   0  \n",
       "...      ...   ...  ...  ..  \n",
       "87595   3758     0   12   0  \n",
       "87596   4009     0   12   0  \n",
       "87597   4221     0   12   0  \n",
       "87598   4591     0   12   0  \n",
       "87599   4621     0   12   0  \n",
       "\n",
       "[87600 rows x 11 columns]"
      ]
     },
     "execution_count": 10,
     "metadata": {},
     "output_type": "execute_result"
    }
   ],
   "source": [
    "bike_return"
   ]
  },
  {
   "cell_type": "code",
   "execution_count": 11,
   "id": "1f533bc1-2fa0-4f53-8357-c541122f82ff",
   "metadata": {},
   "outputs": [
    {
     "name": "stdout",
     "output_type": "stream",
     "text": [
      "<class 'pandas.core.frame.DataFrame'>\n",
      "Index: 87600 entries, 0 to 87599\n",
      "Data columns (total 11 columns):\n",
      " #   Column       Non-Null Count  Dtype  \n",
      "---  ------       --------------  -----  \n",
      " 0   시간대          87600 non-null  int64  \n",
      " 1   기온(°C)       87600 non-null  float64\n",
      " 2   강수량(mm)      87600 non-null  float64\n",
      " 3   풍속(m/s)      87600 non-null  float64\n",
      " 4   습도(%)        87600 non-null  float64\n",
      " 5   적설(cm)       87600 non-null  float64\n",
      " 6   미세먼지농도(㎍/㎥)  87600 non-null  float64\n",
      " 7   대여소번호        87600 non-null  int64  \n",
      " 8   반납건수         87600 non-null  int64  \n",
      " 9   반납월          87600 non-null  int64  \n",
      " 10  평일           87600 non-null  int64  \n",
      "dtypes: float64(6), int64(5)\n",
      "memory usage: 8.0 MB\n"
     ]
    }
   ],
   "source": [
    "### 데이터 확인\n",
    "bike_return.info()"
   ]
  },
  {
   "cell_type": "code",
   "execution_count": 13,
   "id": "38883bd8-61e6-415b-a656-cd6867f46e85",
   "metadata": {},
   "outputs": [
    {
     "data": {
      "text/plain": [
       "시간대            category\n",
       "기온(°C)          float64\n",
       "강수량(mm)         float64\n",
       "풍속(m/s)         float64\n",
       "습도(%)           float64\n",
       "적설(cm)          float64\n",
       "미세먼지농도(㎍/㎥)     float64\n",
       "대여소번호          category\n",
       "반납건수              int64\n",
       "반납월            category\n",
       "평일             category\n",
       "dtype: object"
      ]
     },
     "execution_count": 13,
     "metadata": {},
     "output_type": "execute_result"
    }
   ],
   "source": [
    "# 범주형 변수 category로 변경\n",
    "bike_return['시간대'] = bike_return['시간대'].astype('category')\n",
    "bike_return['대여소번호'] = bike_return['대여소번호'].astype('category')\n",
    "bike_return['반납월'] = bike_return['반납월'].astype('category')\n",
    "bike_return['평일'] = bike_return['평일'].astype('category')\n",
    "\n",
    "bike_return.dtypes"
   ]
  },
  {
   "cell_type": "code",
   "execution_count": 14,
   "id": "22dc0027-26d2-4f14-a06f-c28c09b1249c",
   "metadata": {},
   "outputs": [
    {
     "data": {
      "text/html": [
       "<div>\n",
       "<style scoped>\n",
       "    .dataframe tbody tr th:only-of-type {\n",
       "        vertical-align: middle;\n",
       "    }\n",
       "\n",
       "    .dataframe tbody tr th {\n",
       "        vertical-align: top;\n",
       "    }\n",
       "\n",
       "    .dataframe thead th {\n",
       "        text-align: right;\n",
       "    }\n",
       "</style>\n",
       "<table border=\"1\" class=\"dataframe\">\n",
       "  <thead>\n",
       "    <tr style=\"text-align: right;\">\n",
       "      <th></th>\n",
       "      <th>count</th>\n",
       "      <th>mean</th>\n",
       "      <th>std</th>\n",
       "      <th>min</th>\n",
       "      <th>25%</th>\n",
       "      <th>50%</th>\n",
       "      <th>75%</th>\n",
       "      <th>max</th>\n",
       "    </tr>\n",
       "  </thead>\n",
       "  <tbody>\n",
       "    <tr>\n",
       "      <th>기온(°C)</th>\n",
       "      <td>87600.0</td>\n",
       "      <td>14.106804</td>\n",
       "      <td>10.921583</td>\n",
       "      <td>-17.066667</td>\n",
       "      <td>5.200000</td>\n",
       "      <td>15.583333</td>\n",
       "      <td>23.566667</td>\n",
       "      <td>35.266667</td>\n",
       "    </tr>\n",
       "    <tr>\n",
       "      <th>강수량(mm)</th>\n",
       "      <td>87600.0</td>\n",
       "      <td>0.182511</td>\n",
       "      <td>1.006807</td>\n",
       "      <td>0.000000</td>\n",
       "      <td>0.000000</td>\n",
       "      <td>0.000000</td>\n",
       "      <td>0.000000</td>\n",
       "      <td>16.033333</td>\n",
       "    </tr>\n",
       "    <tr>\n",
       "      <th>풍속(m/s)</th>\n",
       "      <td>87600.0</td>\n",
       "      <td>2.271164</td>\n",
       "      <td>0.973459</td>\n",
       "      <td>0.133333</td>\n",
       "      <td>1.600000</td>\n",
       "      <td>2.133333</td>\n",
       "      <td>2.833333</td>\n",
       "      <td>7.466667</td>\n",
       "    </tr>\n",
       "    <tr>\n",
       "      <th>습도(%)</th>\n",
       "      <td>87600.0</td>\n",
       "      <td>66.637671</td>\n",
       "      <td>18.598198</td>\n",
       "      <td>16.000000</td>\n",
       "      <td>53.666667</td>\n",
       "      <td>67.666667</td>\n",
       "      <td>81.333333</td>\n",
       "      <td>100.000000</td>\n",
       "    </tr>\n",
       "    <tr>\n",
       "      <th>적설(cm)</th>\n",
       "      <td>87600.0</td>\n",
       "      <td>0.050833</td>\n",
       "      <td>0.505922</td>\n",
       "      <td>0.000000</td>\n",
       "      <td>0.000000</td>\n",
       "      <td>0.000000</td>\n",
       "      <td>0.000000</td>\n",
       "      <td>11.866667</td>\n",
       "    </tr>\n",
       "    <tr>\n",
       "      <th>미세먼지농도(㎍/㎥)</th>\n",
       "      <td>87600.0</td>\n",
       "      <td>39.760274</td>\n",
       "      <td>34.507354</td>\n",
       "      <td>2.000000</td>\n",
       "      <td>20.000000</td>\n",
       "      <td>30.666667</td>\n",
       "      <td>47.666667</td>\n",
       "      <td>391.333333</td>\n",
       "    </tr>\n",
       "    <tr>\n",
       "      <th>반납건수</th>\n",
       "      <td>87600.0</td>\n",
       "      <td>5.146381</td>\n",
       "      <td>12.931766</td>\n",
       "      <td>0.000000</td>\n",
       "      <td>0.000000</td>\n",
       "      <td>2.000000</td>\n",
       "      <td>6.000000</td>\n",
       "      <td>427.000000</td>\n",
       "    </tr>\n",
       "  </tbody>\n",
       "</table>\n",
       "</div>"
      ],
      "text/plain": [
       "               count       mean        std        min        25%        50%  \\\n",
       "기온(°C)       87600.0  14.106804  10.921583 -17.066667   5.200000  15.583333   \n",
       "강수량(mm)      87600.0   0.182511   1.006807   0.000000   0.000000   0.000000   \n",
       "풍속(m/s)      87600.0   2.271164   0.973459   0.133333   1.600000   2.133333   \n",
       "습도(%)        87600.0  66.637671  18.598198  16.000000  53.666667  67.666667   \n",
       "적설(cm)       87600.0   0.050833   0.505922   0.000000   0.000000   0.000000   \n",
       "미세먼지농도(㎍/㎥)  87600.0  39.760274  34.507354   2.000000  20.000000  30.666667   \n",
       "반납건수         87600.0   5.146381  12.931766   0.000000   0.000000   2.000000   \n",
       "\n",
       "                   75%         max  \n",
       "기온(°C)       23.566667   35.266667  \n",
       "강수량(mm)       0.000000   16.033333  \n",
       "풍속(m/s)       2.833333    7.466667  \n",
       "습도(%)        81.333333  100.000000  \n",
       "적설(cm)        0.000000   11.866667  \n",
       "미세먼지농도(㎍/㎥)  47.666667  391.333333  \n",
       "반납건수          6.000000  427.000000  "
      ]
     },
     "execution_count": 14,
     "metadata": {},
     "output_type": "execute_result"
    }
   ],
   "source": [
    "### 기술통계량 확인\n",
    "bike_return.describe().T"
   ]
  },
  {
   "cell_type": "markdown",
   "id": "4a9cd18d-e955-48b5-89ef-70f60967e47b",
   "metadata": {},
   "source": [
    "-> 크게 이상치는 없는듯 하다. 데이터를 시각화해서 더 알아본다."
   ]
  },
  {
   "cell_type": "markdown",
   "id": "86c875b2-fc1c-4feb-8304-01ec98b45a20",
   "metadata": {},
   "source": [
    "#### 데이터 시각화"
   ]
  },
  {
   "cell_type": "code",
   "execution_count": 15,
   "id": "761f1486-447e-4ccf-b9bb-9949b95aa2c7",
   "metadata": {},
   "outputs": [],
   "source": [
    "import seaborn as sns\n",
    "import matplotlib as mpl\n",
    "import matplotlib.pyplot as plt \n",
    "%matplotlib inline"
   ]
  },
  {
   "cell_type": "code",
   "execution_count": 16,
   "id": "a263dd21-af82-46b6-8245-5fee510aaccf",
   "metadata": {},
   "outputs": [],
   "source": [
    "### 한글 및 부호 깨짐 방지\n",
    "plt.rcParams['font.family'] = 'AppleGothic' #한글\n",
    "mpl.rcParams['axes.unicode_minus'] = False #마이너스 부호"
   ]
  },
  {
   "cell_type": "markdown",
   "id": "5c3783c7-16b2-4156-8dae-92624e524afa",
   "metadata": {},
   "source": [
    "- 종속변수 분포"
   ]
  },
  {
   "cell_type": "code",
   "execution_count": 17,
   "id": "06075e1b-2800-4d48-aca3-f4c47acf289b",
   "metadata": {},
   "outputs": [
    {
     "name": "stderr",
     "output_type": "stream",
     "text": [
      "/var/folders/c6/kvlszyfj2q9_tv_8pb0y40qm0000gn/T/ipykernel_60480/1854473090.py:4: UserWarning: \n",
      "\n",
      "`distplot` is a deprecated function and will be removed in seaborn v0.14.0.\n",
      "\n",
      "Please adapt your code to use either `displot` (a figure-level function with\n",
      "similar flexibility) or `histplot` (an axes-level function for histograms).\n",
      "\n",
      "For a guide to updating your code to use the new functions, please see\n",
      "https://gist.github.com/mwaskom/de44147ed2974457ad6372750bbe5751\n",
      "\n",
      "  sns.distplot(bike_rental['대여건수'], ax=axes[0])\n",
      "/Users/rynn/anaconda3/lib/python3.11/site-packages/seaborn/_oldcore.py:1119: FutureWarning: use_inf_as_na option is deprecated and will be removed in a future version. Convert inf values to NaN before operating instead.\n",
      "  with pd.option_context('mode.use_inf_as_na', True):\n",
      "/var/folders/c6/kvlszyfj2q9_tv_8pb0y40qm0000gn/T/ipykernel_60480/1854473090.py:5: UserWarning: \n",
      "\n",
      "`distplot` is a deprecated function and will be removed in seaborn v0.14.0.\n",
      "\n",
      "Please adapt your code to use either `displot` (a figure-level function with\n",
      "similar flexibility) or `histplot` (an axes-level function for histograms).\n",
      "\n",
      "For a guide to updating your code to use the new functions, please see\n",
      "https://gist.github.com/mwaskom/de44147ed2974457ad6372750bbe5751\n",
      "\n",
      "  sns.distplot(np.log1p(bike_rental['대여건수']), ax=axes[1])\n",
      "/Users/rynn/anaconda3/lib/python3.11/site-packages/seaborn/_oldcore.py:1119: FutureWarning: use_inf_as_na option is deprecated and will be removed in a future version. Convert inf values to NaN before operating instead.\n",
      "  with pd.option_context('mode.use_inf_as_na', True):\n"
     ]
    },
    {
     "data": {
      "image/png": "[encoded data removed]",
      "text/plain": [
       "<Figure size 1500x500 with 2 Axes>"
      ]
     },
     "metadata": {},
     "output_type": "display_data"
    }
   ],
   "source": [
    "### 대여건수 분포 확인\n",
    "fig, axes = plt.subplots(1, 2, figsize=(15, 5))\n",
    "\n",
    "sns.distplot(bike_rental['대여건수'], ax=axes[0])\n",
    "sns.distplot(np.log1p(bike_rental['대여건수']), ax=axes[1])\n",
    "\n",
    "axes[0].set_title('대여건수 분포')\n",
    "axes[1].set_title('로그변환 대여건수 분포')\n",
    "\n",
    "plt.show()"
   ]
  },
  {
   "cell_type": "code",
   "execution_count": 18,
   "id": "b1104a77-bc17-49cb-b5d1-f9e4bd6d335d",
   "metadata": {},
   "outputs": [
    {
     "name": "stdout",
     "output_type": "stream",
     "text": [
      "3.916013157417046 27.24446777685947\n"
     ]
    }
   ],
   "source": [
    "# 대여건수 왜도 및 첨도 확인\n",
    "print(bike_rental['대여건수'].skew(), bike_rental['대여건수'].kurt())"
   ]
  },
  {
   "cell_type": "code",
   "execution_count": 19,
   "id": "e517b5f4-1754-4ecb-a942-8a914b37ba7e",
   "metadata": {},
   "outputs": [
    {
     "name": "stdout",
     "output_type": "stream",
     "text": [
      "0.06683406372116017 -0.7789312152429275\n"
     ]
    }
   ],
   "source": [
    "# 로그변환 대여건수 왜도 및 첨도 확인\n",
    "print(np.log1p(bike_rental['대여건수']).skew(), np.log1p(bike_rental['대여건수']).kurt())"
   ]
  },
  {
   "cell_type": "code",
   "execution_count": 20,
   "id": "52f493cb-42eb-43d5-a5f7-676f17fa2614",
   "metadata": {},
   "outputs": [
    {
     "name": "stderr",
     "output_type": "stream",
     "text": [
      "/var/folders/c6/kvlszyfj2q9_tv_8pb0y40qm0000gn/T/ipykernel_60480/566448748.py:4: UserWarning: \n",
      "\n",
      "`distplot` is a deprecated function and will be removed in seaborn v0.14.0.\n",
      "\n",
      "Please adapt your code to use either `displot` (a figure-level function with\n",
      "similar flexibility) or `histplot` (an axes-level function for histograms).\n",
      "\n",
      "For a guide to updating your code to use the new functions, please see\n",
      "https://gist.github.com/mwaskom/de44147ed2974457ad6372750bbe5751\n",
      "\n",
      "  sns.distplot(bike_return['반납건수'], ax=axes[0])\n",
      "/Users/rynn/anaconda3/lib/python3.11/site-packages/seaborn/_oldcore.py:1119: FutureWarning: use_inf_as_na option is deprecated and will be removed in a future version. Convert inf values to NaN before operating instead.\n",
      "  with pd.option_context('mode.use_inf_as_na', True):\n",
      "/var/folders/c6/kvlszyfj2q9_tv_8pb0y40qm0000gn/T/ipykernel_60480/566448748.py:5: UserWarning: \n",
      "\n",
      "`distplot` is a deprecated function and will be removed in seaborn v0.14.0.\n",
      "\n",
      "Please adapt your code to use either `displot` (a figure-level function with\n",
      "similar flexibility) or `histplot` (an axes-level function for histograms).\n",
      "\n",
      "For a guide to updating your code to use the new functions, please see\n",
      "https://gist.github.com/mwaskom/de44147ed2974457ad6372750bbe5751\n",
      "\n",
      "  sns.distplot(np.log1p(bike_return['반납건수']), ax=axes[1])\n",
      "/Users/rynn/anaconda3/lib/python3.11/site-packages/seaborn/_oldcore.py:1119: FutureWarning: use_inf_as_na option is deprecated and will be removed in a future version. Convert inf values to NaN before operating instead.\n",
      "  with pd.option_context('mode.use_inf_as_na', True):\n"
     ]
    },
    {
     "data": {
      "image/png": "[encoded data removed]",
      "text/plain": [
       "<Figure size 1500x500 with 2 Axes>"
      ]
     },
     "metadata": {},
     "output_type": "display_data"
    }
   ],
   "source": [
    "### 반납건수 분포 확인\n",
    "fig, axes = plt.subplots(1, 2, figsize=(15, 5))\n",
    "\n",
    "sns.distplot(bike_return['반납건수'], ax=axes[0])\n",
    "sns.distplot(np.log1p(bike_return['반납건수']), ax=axes[1])\n",
    "\n",
    "axes[0].set_title('반납건수 분포')\n",
    "axes[1].set_title('로그변환 반납건수 분포')\n",
    "\n",
    "plt.show()"
   ]
  },
  {
   "cell_type": "code",
   "execution_count": 21,
   "id": "fec3e8e1-34f9-42ff-aa37-64ca0e137000",
   "metadata": {},
   "outputs": [
    {
     "name": "stdout",
     "output_type": "stream",
     "text": [
      "11.662487152387264 206.2926698417124\n"
     ]
    }
   ],
   "source": [
    "# 반납건수 왜도 및 첨도 확인\n",
    "print(bike_return['반납건수'].skew(), bike_return['반납건수'].kurt())"
   ]
  },
  {
   "cell_type": "code",
   "execution_count": 22,
   "id": "166922e2-270d-4571-a1ab-d77bebc062e7",
   "metadata": {},
   "outputs": [
    {
     "name": "stdout",
     "output_type": "stream",
     "text": [
      "0.6408252703744753 -0.03490705688728646\n"
     ]
    }
   ],
   "source": [
    "# 로그변환 반납건수 왜도 및 첨도 확인\n",
    "print(np.log1p(bike_return['반납건수']).skew(), np.log1p(bike_return['반납건수']).kurt())"
   ]
  },
  {
   "cell_type": "markdown",
   "id": "bf89ce58-6f69-4b73-84ac-3bbd240cb894",
   "metadata": {},
   "source": [
    "-> 로그변환을 했지만 정규분포를 따른다고 하기는 어렵다. 하지만 변환 전보다 확실히 분포가 나아졌기에 예측 시 타깃값은 로그변환을 하도록 한다."
   ]
  },
  {
   "cell_type": "markdown",
   "id": "34734516-1544-4f0b-a196-9799d2371424",
   "metadata": {},
   "source": [
    "- 종속변수와 독립변수의 상관관계"
   ]
  },
  {
   "cell_type": "code",
   "execution_count": null,
   "id": "d7702d92-c896-4a30-8c4f-b7d9ce861986",
   "metadata": {},
   "outputs": [],
   "source": [
    "# 시각화 한 내용 넣기"
   ]
  },
  {
   "cell_type": "code",
   "execution_count": null,
   "id": "e4c4ebfb-9ad7-45e8-8b6b-967b82cb1b10",
   "metadata": {},
   "outputs": [],
   "source": []
  },
  {
   "cell_type": "markdown",
   "id": "25cd0dd5-972d-4495-be67-df019db2e471",
   "metadata": {},
   "source": [
    "<br>\n",
    "<br>"
   ]
  },
  {
   "cell_type": "markdown",
   "id": "165807c0-71ea-4034-9888-b4679f409569",
   "metadata": {},
   "source": [
    "## 피처 엔지니어링\n",
    "##### : 대여 데이터와 반납 데이터 모두 독립변수가 동일하고, 대여량과 반납량은 독립변수에 영향을 받는 정도가 비슷할 것이므로 대여 데이터로 피처 엔지니어링을 진행해본다."
   ]
  },
  {
   "cell_type": "markdown",
   "id": "272b5952-abc3-4a05-870a-27c959ed6aed",
   "metadata": {},
   "source": [
    "#### **OLS 회귀분석을 통해 독립변수의 유의성 확인**\n",
    "- R-squared: 결정계수, 전체 데이터 중 해당 회귀모델이 설명할 수 있는 데이터의 비율로, 회귀식의 설명력을 나타냄 (1에 가까울수록 성능이 좋음)\n",
    "- t: t-test, 독립변수와 종속변수 사이의 상관관계로, 값이 클수록 상관도가 큼\n",
    "- p-value(P > |t|): 독립변수들의 유의 확률로, 독립변수가 종속변수에 영향을 미친다는 가정이 유의하다는 것을 알려줌 (0.05보다 작아야 유의미)\n",
    "- Cond. No:\t다중공선성 검정으로, 독립변수간 상관관계가 있는지 보는 것이며, 10이상이면 다중공선성이 있다고 판단"
   ]
  },
  {
   "cell_type": "code",
   "execution_count": 25,
   "id": "dfc97cb2-0492-4541-aee1-76374f4a70dd",
   "metadata": {},
   "outputs": [],
   "source": [
    "# OLS 회귀분석에서 컬럼명 오류 문제 해결\n",
    "ols_df = bike_rental.copy()\n",
    "ols_df.columns = ['시간대', '기온', '강수량', '풍속', '습도', '적설', '미세먼지농도', '대여소번호', '대여건수', '대여월', '평일']"
   ]
  },
  {
   "cell_type": "code",
   "execution_count": 26,
   "id": "c7fc3a1f-f766-4b71-86e5-41efb45831d6",
   "metadata": {},
   "outputs": [],
   "source": [
    "# 타깃값으로 로그변환한 대여건수를 사용\n",
    "ols_df['로그변환대여건수'] = np.log1p(ols_df['대여건수'])"
   ]
  },
  {
   "cell_type": "code",
   "execution_count": 27,
   "id": "aabd6226-ff03-4b59-809c-e0ee64c674aa",
   "metadata": {},
   "outputs": [
    {
     "name": "stdout",
     "output_type": "stream",
     "text": [
      "                            OLS Regression Results                            \n",
      "==============================================================================\n",
      "Dep. Variable:               로그변환대여건수   R-squared:                       0.547\n",
      "Model:                            OLS   Adj. R-squared:                  0.547\n",
      "Method:                 Least Squares   F-statistic:                     1960.\n",
      "Date:                Fri, 31 May 2024   Prob (F-statistic):               0.00\n",
      "Time:                        04:30:14   Log-Likelihood:                -90120.\n",
      "No. Observations:               87600   AIC:                         1.804e+05\n",
      "Df Residuals:                   87545   BIC:                         1.809e+05\n",
      "Df Model:                          54                                         \n",
      "Covariance Type:            nonrobust                                         \n",
      "====================================================================================\n",
      "                       coef    std err          t      P>|t|      [0.025      0.975]\n",
      "------------------------------------------------------------------------------------\n",
      "C(시간대)[1]            0.3192      0.022     14.634      0.000       0.276       0.362\n",
      "C(시간대)[2]            0.9763      0.022     44.090      0.000       0.933       1.020\n",
      "C(시간대)[3]            1.5478      0.022     71.304      0.000       1.505       1.590\n",
      "C(시간대)[4]            1.2103      0.021     57.824      0.000       1.169       1.251\n",
      "C(시간대)[5]            1.3354      0.021     63.973      0.000       1.294       1.376\n",
      "C(시간대)[6]            1.6002      0.021     76.216      0.000       1.559       1.641\n",
      "C(시간대)[7]            1.3279      0.021     62.957      0.000       1.287       1.369\n",
      "C(시간대)[8]            0.8055      0.021     37.753      0.000       0.764       0.847\n",
      "C(대여소번호)[T.207]      1.5585      0.018     87.940      0.000       1.524       1.593\n",
      "C(대여소번호)[T.213]      0.7540      0.018     42.547      0.000       0.719       0.789\n",
      "C(대여소번호)[T.434]     -0.0995      0.018     -5.615      0.000      -0.134      -0.065\n",
      "C(대여소번호)[T.474]      0.8799      0.018     49.648      0.000       0.845       0.915\n",
      "C(대여소번호)[T.497]      0.8648      0.018     48.800      0.000       0.830       0.900\n",
      "C(대여소번호)[T.574]      1.0851      0.018     61.227      0.000       1.050       1.120\n",
      "C(대여소번호)[T.584]      1.1622      0.018     65.581      0.000       1.127       1.197\n",
      "C(대여소번호)[T.623]     -0.1826      0.018    -10.304      0.000      -0.217      -0.148\n",
      "C(대여소번호)[T.711]      0.4098      0.018     23.126      0.000       0.375       0.445\n",
      "C(대여소번호)[T.720]      0.1799      0.018     10.154      0.000       0.145       0.215\n",
      "C(대여소번호)[T.725]      0.0543      0.018      3.065      0.002       0.020       0.089\n",
      "C(대여소번호)[T.1126]     0.7825      0.018     44.154      0.000       0.748       0.817\n",
      "C(대여소번호)[T.1175]     0.5744      0.018     32.415      0.000       0.540       0.609\n",
      "C(대여소번호)[T.1199]     0.7216      0.018     40.717      0.000       0.687       0.756\n",
      "C(대여소번호)[T.1428]     0.3667      0.018     20.691      0.000       0.332       0.401\n",
      "C(대여소번호)[T.1430]     0.3384      0.018     19.096      0.000       0.304       0.373\n",
      "C(대여소번호)[T.1692]     0.8440      0.018     47.624      0.000       0.809       0.879\n",
      "C(대여소번호)[T.1854]     0.0003      0.018      0.017      0.987      -0.034       0.035\n",
      "C(대여소번호)[T.1924]     0.3204      0.018     18.077      0.000       0.286       0.355\n",
      "C(대여소번호)[T.2349]     0.0102      0.018      0.577      0.564      -0.025       0.045\n",
      "C(대여소번호)[T.2405]     0.0595      0.018      3.358      0.001       0.025       0.094\n",
      "C(대여소번호)[T.2712]     0.3114      0.018     17.571      0.000       0.277       0.346\n",
      "C(대여소번호)[T.3513]     0.8236      0.018     46.472      0.000       0.789       0.858\n",
      "C(대여소번호)[T.3642]     0.0190      0.018      1.069      0.285      -0.016       0.054\n",
      "C(대여소번호)[T.3758]     0.8227      0.018     46.421      0.000       0.788       0.857\n",
      "C(대여소번호)[T.4009]     0.0582      0.018      3.283      0.001       0.023       0.093\n",
      "C(대여소번호)[T.4221]    -0.1581      0.018     -8.922      0.000      -0.193      -0.123\n",
      "C(대여소번호)[T.4591]     0.1197      0.018      6.752      0.000       0.085       0.154\n",
      "C(대여소번호)[T.4621]    -0.1577      0.018     -8.898      0.000      -0.192      -0.123\n",
      "C(대여월)[T.2]          0.1749      0.012     14.982      0.000       0.152       0.198\n",
      "C(대여월)[T.3]          0.1587      0.013     12.262      0.000       0.133       0.184\n",
      "C(대여월)[T.4]          0.2312      0.014     16.368      0.000       0.204       0.259\n",
      "C(대여월)[T.5]          0.1998      0.016     12.159      0.000       0.168       0.232\n",
      "C(대여월)[T.6]          0.2884      0.018     15.756      0.000       0.253       0.324\n",
      "C(대여월)[T.7]          0.2194      0.020     11.039      0.000       0.180       0.258\n",
      "C(대여월)[T.8]          0.1656      0.020      8.219      0.000       0.126       0.205\n",
      "C(대여월)[T.9]          0.2712      0.019     14.598      0.000       0.235       0.308\n",
      "C(대여월)[T.10]         0.4641      0.015     30.679      0.000       0.434       0.494\n",
      "C(대여월)[T.11]         0.4326      0.012     34.839      0.000       0.408       0.457\n",
      "C(대여월)[T.12]         0.1172      0.011     10.285      0.000       0.095       0.140\n",
      "C(평일)[T.1]           0.1726      0.005     35.042      0.000       0.163       0.182\n",
      "기온                   0.0211      0.001     37.036      0.000       0.020       0.022\n",
      "강수량                 -0.1511      0.002    -61.916      0.000      -0.156      -0.146\n",
      "풍속                  -0.0431      0.003    -16.229      0.000      -0.048      -0.038\n",
      "습도                  -0.0090      0.000    -53.943      0.000      -0.009      -0.009\n",
      "적설                  -0.0520      0.005    -10.949      0.000      -0.061      -0.043\n",
      "미세먼지농도               0.0012   7.96e-05     14.948      0.000       0.001       0.001\n",
      "==============================================================================\n",
      "Omnibus:                     1756.418   Durbin-Watson:                   1.582\n",
      "Prob(Omnibus):                  0.000   Jarque-Bera (JB):             1864.027\n",
      "Skew:                          -0.352   Prob(JB):                         0.00\n",
      "Kurtosis:                       3.119   Cond. No.                     2.88e+03\n",
      "==============================================================================\n",
      "\n",
      "Notes:\n",
      "[1] Standard Errors assume that the covariance matrix of the errors is correctly specified.\n",
      "[2] The condition number is large, 2.88e+03. This might indicate that there are\n",
      "strong multicollinearity or other numerical problems.\n"
     ]
    }
   ],
   "source": [
    "### OLS 회귀분석 (C는 범주형 변수 처리)\n",
    "import statsmodels.formula.api as smf\n",
    "\n",
    "ols = smf.ols('로그변환대여건수 ~ C(시간대) + C(대여소번호) + C(대여월) + C(평일) + 기온 + 강수량 + 풍속 + 습도 + 적설 + 미세먼지농도 + 0', data=ols_df).fit()\n",
    "print(ols.summary())"
   ]
  },
  {
   "cell_type": "markdown",
   "id": "5decb3a0-d2e1-476f-8b23-bbb395d3918d",
   "metadata": {},
   "source": [
    "-> 대여소(1854, 2349, 3642)들을 제외하면 독립변수들의 p-value가 0.05보다 작으므로 이 변수들은 통계적으로 유의미하다고 할 수 있다.\n",
    "<br>-> 다중공선성이 발생한다는 경고가 뜨는데 여기에 대해서 조금 더 알아보기로 한다."
   ]
  },
  {
   "cell_type": "markdown",
   "id": "d429462e-bcfa-4d45-9103-826820d15d3b",
   "metadata": {},
   "source": [
    "<br>"
   ]
  },
  {
   "cell_type": "markdown",
   "id": "f995db7b-9ef7-44fe-9fb8-965c35810bd3",
   "metadata": {},
   "source": [
    "#### **다중공선성 확인**\n",
    "- 다중공선성: 회귀분석에서 독립 변수들 간에 높은 상관관계가 있는 경우 발생, 다중공선성이 발생하면 과적합이 발생해 모델의 안정성과 해석력을 해칠 수 있음\n",
    "- 분산팽창계수(Variance Inflation Factor, VIF): 다중공선성을 평가하는 데에 사용되는 지표로, 각 독립 변수의 설명력이 다른 독립 변수들과 어떻게 상호작용하는지를 나타냄 (일반적으로 VIF 값이 10을 초과하는 경우 다중공선성의 증거로 간주)"
   ]
  },
  {
   "cell_type": "code",
   "execution_count": 28,
   "id": "2e6c7b3b-7002-4883-b006-bcd9bd24c37d",
   "metadata": {},
   "outputs": [],
   "source": [
    "### 원핫인코딩 (범주형 변수에 대해, 해당 변수의 범주 개수만큼의 새로운 변수로 쪼개어 0과 1 값을 할당 -> 모델이 학습할 수 있도록)\n",
    "# drop_first=True: 기준이 되는 첫번째 범주에 대해서는 생성하지 않음\n",
    "oed_rental = pd.get_dummies(data = bike_rental, columns = ['대여소번호', '시간대', '대여월'], drop_first=True, dtype=int)"
   ]
  },
  {
   "cell_type": "code",
   "execution_count": 29,
   "id": "83a2a620-db11-4f0d-8976-a5515b79789f",
   "metadata": {},
   "outputs": [],
   "source": [
    "from statsmodels.stats.outliers_influence import variance_inflation_factor"
   ]
  },
  {
   "cell_type": "code",
   "execution_count": 31,
   "id": "6814daa8-bc24-42bc-bbdb-55dfb016fcfe",
   "metadata": {
    "scrolled": true
   },
   "outputs": [
    {
     "data": {
      "text/html": [
       "<div>\n",
       "<style scoped>\n",
       "    .dataframe tbody tr th:only-of-type {\n",
       "        vertical-align: middle;\n",
       "    }\n",
       "\n",
       "    .dataframe tbody tr th {\n",
       "        vertical-align: top;\n",
       "    }\n",
       "\n",
       "    .dataframe thead th {\n",
       "        text-align: right;\n",
       "    }\n",
       "</style>\n",
       "<table border=\"1\" class=\"dataframe\">\n",
       "  <thead>\n",
       "    <tr style=\"text-align: right;\">\n",
       "      <th></th>\n",
       "      <th>VIF Factor</th>\n",
       "      <th>features</th>\n",
       "    </tr>\n",
       "  </thead>\n",
       "  <tbody>\n",
       "    <tr>\n",
       "      <th>0</th>\n",
       "      <td>19.357764</td>\n",
       "      <td>기온(°C)</td>\n",
       "    </tr>\n",
       "    <tr>\n",
       "      <th>1</th>\n",
       "      <td>17.357099</td>\n",
       "      <td>습도(%)</td>\n",
       "    </tr>\n",
       "    <tr>\n",
       "      <th>2</th>\n",
       "      <td>7.599572</td>\n",
       "      <td>풍속(m/s)</td>\n",
       "    </tr>\n",
       "    <tr>\n",
       "      <th>3</th>\n",
       "      <td>6.135247</td>\n",
       "      <td>대여월_8</td>\n",
       "    </tr>\n",
       "    <tr>\n",
       "      <th>4</th>\n",
       "      <td>6.036589</td>\n",
       "      <td>대여월_7</td>\n",
       "    </tr>\n",
       "    <tr>\n",
       "      <th>5</th>\n",
       "      <td>4.986054</td>\n",
       "      <td>대여월_9</td>\n",
       "    </tr>\n",
       "    <tr>\n",
       "      <th>6</th>\n",
       "      <td>4.861983</td>\n",
       "      <td>대여월_6</td>\n",
       "    </tr>\n",
       "    <tr>\n",
       "      <th>7</th>\n",
       "      <td>3.934539</td>\n",
       "      <td>대여월_5</td>\n",
       "    </tr>\n",
       "    <tr>\n",
       "      <th>8</th>\n",
       "      <td>3.313939</td>\n",
       "      <td>대여월_10</td>\n",
       "    </tr>\n",
       "    <tr>\n",
       "      <th>9</th>\n",
       "      <td>3.077714</td>\n",
       "      <td>미세먼지농도(㎍/㎥)</td>\n",
       "    </tr>\n",
       "    <tr>\n",
       "      <th>10</th>\n",
       "      <td>3.074716</td>\n",
       "      <td>평일</td>\n",
       "    </tr>\n",
       "    <tr>\n",
       "      <th>11</th>\n",
       "      <td>2.948493</td>\n",
       "      <td>대여건수</td>\n",
       "    </tr>\n",
       "    <tr>\n",
       "      <th>12</th>\n",
       "      <td>2.870769</td>\n",
       "      <td>대여월_4</td>\n",
       "    </tr>\n",
       "    <tr>\n",
       "      <th>13</th>\n",
       "      <td>2.598351</td>\n",
       "      <td>시간대_5</td>\n",
       "    </tr>\n",
       "    <tr>\n",
       "      <th>14</th>\n",
       "      <td>2.479490</td>\n",
       "      <td>시간대_6</td>\n",
       "    </tr>\n",
       "    <tr>\n",
       "      <th>15</th>\n",
       "      <td>2.374824</td>\n",
       "      <td>대여월_3</td>\n",
       "    </tr>\n",
       "    <tr>\n",
       "      <th>16</th>\n",
       "      <td>2.263098</td>\n",
       "      <td>시간대_4</td>\n",
       "    </tr>\n",
       "    <tr>\n",
       "      <th>17</th>\n",
       "      <td>2.196131</td>\n",
       "      <td>대여월_11</td>\n",
       "    </tr>\n",
       "    <tr>\n",
       "      <th>18</th>\n",
       "      <td>2.087007</td>\n",
       "      <td>시간대_3</td>\n",
       "    </tr>\n",
       "    <tr>\n",
       "      <th>19</th>\n",
       "      <td>2.041066</td>\n",
       "      <td>시간대_7</td>\n",
       "    </tr>\n",
       "    <tr>\n",
       "      <th>20</th>\n",
       "      <td>2.037826</td>\n",
       "      <td>대여소번호_207</td>\n",
       "    </tr>\n",
       "    <tr>\n",
       "      <th>21</th>\n",
       "      <td>1.972767</td>\n",
       "      <td>시간대_2</td>\n",
       "    </tr>\n",
       "    <tr>\n",
       "      <th>22</th>\n",
       "      <td>1.967471</td>\n",
       "      <td>대여월_12</td>\n",
       "    </tr>\n",
       "    <tr>\n",
       "      <th>23</th>\n",
       "      <td>1.891822</td>\n",
       "      <td>시간대_8</td>\n",
       "    </tr>\n",
       "    <tr>\n",
       "      <th>24</th>\n",
       "      <td>1.789954</td>\n",
       "      <td>대여월_2</td>\n",
       "    </tr>\n",
       "    <tr>\n",
       "      <th>25</th>\n",
       "      <td>1.732096</td>\n",
       "      <td>대여소번호_584</td>\n",
       "    </tr>\n",
       "    <tr>\n",
       "      <th>26</th>\n",
       "      <td>1.728306</td>\n",
       "      <td>대여소번호_574</td>\n",
       "    </tr>\n",
       "    <tr>\n",
       "      <th>27</th>\n",
       "      <td>1.704221</td>\n",
       "      <td>대여소번호_497</td>\n",
       "    </tr>\n",
       "    <tr>\n",
       "      <th>28</th>\n",
       "      <td>1.704100</td>\n",
       "      <td>대여소번호_213</td>\n",
       "    </tr>\n",
       "    <tr>\n",
       "      <th>29</th>\n",
       "      <td>1.697806</td>\n",
       "      <td>대여소번호_3513</td>\n",
       "    </tr>\n",
       "    <tr>\n",
       "      <th>30</th>\n",
       "      <td>1.697347</td>\n",
       "      <td>대여소번호_474</td>\n",
       "    </tr>\n",
       "    <tr>\n",
       "      <th>31</th>\n",
       "      <td>1.693931</td>\n",
       "      <td>대여소번호_3758</td>\n",
       "    </tr>\n",
       "    <tr>\n",
       "      <th>32</th>\n",
       "      <td>1.692950</td>\n",
       "      <td>대여소번호_1692</td>\n",
       "    </tr>\n",
       "    <tr>\n",
       "      <th>33</th>\n",
       "      <td>1.691291</td>\n",
       "      <td>대여소번호_1126</td>\n",
       "    </tr>\n",
       "    <tr>\n",
       "      <th>34</th>\n",
       "      <td>1.683421</td>\n",
       "      <td>대여소번호_1199</td>\n",
       "    </tr>\n",
       "    <tr>\n",
       "      <th>35</th>\n",
       "      <td>1.677219</td>\n",
       "      <td>대여소번호_1175</td>\n",
       "    </tr>\n",
       "    <tr>\n",
       "      <th>36</th>\n",
       "      <td>1.673324</td>\n",
       "      <td>대여소번호_711</td>\n",
       "    </tr>\n",
       "    <tr>\n",
       "      <th>37</th>\n",
       "      <td>1.672541</td>\n",
       "      <td>대여소번호_1428</td>\n",
       "    </tr>\n",
       "    <tr>\n",
       "      <th>38</th>\n",
       "      <td>1.671872</td>\n",
       "      <td>대여소번호_1430</td>\n",
       "    </tr>\n",
       "    <tr>\n",
       "      <th>39</th>\n",
       "      <td>1.670831</td>\n",
       "      <td>대여소번호_1924</td>\n",
       "    </tr>\n",
       "    <tr>\n",
       "      <th>40</th>\n",
       "      <td>1.670669</td>\n",
       "      <td>대여소번호_2712</td>\n",
       "    </tr>\n",
       "    <tr>\n",
       "      <th>41</th>\n",
       "      <td>1.670450</td>\n",
       "      <td>대여소번호_4221</td>\n",
       "    </tr>\n",
       "    <tr>\n",
       "      <th>42</th>\n",
       "      <td>1.670381</td>\n",
       "      <td>대여소번호_434</td>\n",
       "    </tr>\n",
       "    <tr>\n",
       "      <th>43</th>\n",
       "      <td>1.670234</td>\n",
       "      <td>대여소번호_4621</td>\n",
       "    </tr>\n",
       "    <tr>\n",
       "      <th>44</th>\n",
       "      <td>1.670083</td>\n",
       "      <td>대여소번호_623</td>\n",
       "    </tr>\n",
       "    <tr>\n",
       "      <th>45</th>\n",
       "      <td>1.670035</td>\n",
       "      <td>대여소번호_2405</td>\n",
       "    </tr>\n",
       "    <tr>\n",
       "      <th>46</th>\n",
       "      <td>1.670026</td>\n",
       "      <td>대여소번호_1854</td>\n",
       "    </tr>\n",
       "    <tr>\n",
       "      <th>47</th>\n",
       "      <td>1.669976</td>\n",
       "      <td>대여소번호_4009</td>\n",
       "    </tr>\n",
       "    <tr>\n",
       "      <th>48</th>\n",
       "      <td>1.669965</td>\n",
       "      <td>대여소번호_3642</td>\n",
       "    </tr>\n",
       "    <tr>\n",
       "      <th>49</th>\n",
       "      <td>1.669922</td>\n",
       "      <td>대여소번호_720</td>\n",
       "    </tr>\n",
       "    <tr>\n",
       "      <th>50</th>\n",
       "      <td>1.669915</td>\n",
       "      <td>대여소번호_725</td>\n",
       "    </tr>\n",
       "    <tr>\n",
       "      <th>51</th>\n",
       "      <td>1.669896</td>\n",
       "      <td>대여소번호_4591</td>\n",
       "    </tr>\n",
       "    <tr>\n",
       "      <th>52</th>\n",
       "      <td>1.669887</td>\n",
       "      <td>대여소번호_2349</td>\n",
       "    </tr>\n",
       "    <tr>\n",
       "      <th>53</th>\n",
       "      <td>1.167787</td>\n",
       "      <td>강수량(mm)</td>\n",
       "    </tr>\n",
       "    <tr>\n",
       "      <th>54</th>\n",
       "      <td>1.112001</td>\n",
       "      <td>적설(cm)</td>\n",
       "    </tr>\n",
       "  </tbody>\n",
       "</table>\n",
       "</div>"
      ],
      "text/plain": [
       "    VIF Factor     features\n",
       "0    19.357764       기온(°C)\n",
       "1    17.357099        습도(%)\n",
       "2     7.599572      풍속(m/s)\n",
       "3     6.135247        대여월_8\n",
       "4     6.036589        대여월_7\n",
       "5     4.986054        대여월_9\n",
       "6     4.861983        대여월_6\n",
       "7     3.934539        대여월_5\n",
       "8     3.313939       대여월_10\n",
       "9     3.077714  미세먼지농도(㎍/㎥)\n",
       "10    3.074716           평일\n",
       "11    2.948493         대여건수\n",
       "12    2.870769        대여월_4\n",
       "13    2.598351        시간대_5\n",
       "14    2.479490        시간대_6\n",
       "15    2.374824        대여월_3\n",
       "16    2.263098        시간대_4\n",
       "17    2.196131       대여월_11\n",
       "18    2.087007        시간대_3\n",
       "19    2.041066        시간대_7\n",
       "20    2.037826    대여소번호_207\n",
       "21    1.972767        시간대_2\n",
       "22    1.967471       대여월_12\n",
       "23    1.891822        시간대_8\n",
       "24    1.789954        대여월_2\n",
       "25    1.732096    대여소번호_584\n",
       "26    1.728306    대여소번호_574\n",
       "27    1.704221    대여소번호_497\n",
       "28    1.704100    대여소번호_213\n",
       "29    1.697806   대여소번호_3513\n",
       "30    1.697347    대여소번호_474\n",
       "31    1.693931   대여소번호_3758\n",
       "32    1.692950   대여소번호_1692\n",
       "33    1.691291   대여소번호_1126\n",
       "34    1.683421   대여소번호_1199\n",
       "35    1.677219   대여소번호_1175\n",
       "36    1.673324    대여소번호_711\n",
       "37    1.672541   대여소번호_1428\n",
       "38    1.671872   대여소번호_1430\n",
       "39    1.670831   대여소번호_1924\n",
       "40    1.670669   대여소번호_2712\n",
       "41    1.670450   대여소번호_4221\n",
       "42    1.670381    대여소번호_434\n",
       "43    1.670234   대여소번호_4621\n",
       "44    1.670083    대여소번호_623\n",
       "45    1.670035   대여소번호_2405\n",
       "46    1.670026   대여소번호_1854\n",
       "47    1.669976   대여소번호_4009\n",
       "48    1.669965   대여소번호_3642\n",
       "49    1.669922    대여소번호_720\n",
       "50    1.669915    대여소번호_725\n",
       "51    1.669896   대여소번호_4591\n",
       "52    1.669887   대여소번호_2349\n",
       "53    1.167787      강수량(mm)\n",
       "54    1.112001       적설(cm)"
      ]
     },
     "execution_count": 31,
     "metadata": {},
     "output_type": "execute_result"
    }
   ],
   "source": [
    "vif = pd.DataFrame()\n",
    "vif['VIF Factor'] = [variance_inflation_factor(oed_rental.values, i) for i in range(oed_rental.shape[1])]\n",
    "vif['features'] = oed_rental.columns\n",
    "vif = vif.sort_values('VIF Factor', ascending=False).reset_index(drop=True)\n",
    "vif"
   ]
  },
  {
   "cell_type": "markdown",
   "id": "9c5ade61-7f8d-4be1-b59c-c12c42d715e0",
   "metadata": {},
   "source": [
    "-> 기온과 습도에서 다중공선성이 발생하는 것으로 예상된다. 그러나 그 수치가 심각하게 크지 않기 때문에 제거하지 않는다. (실제로 제거 시 성능이 떨어졌고, 릿지와 라쏘 등 규제기법을 적용한 모델을 사용했을 때도 크게 성능이 오르지 않았음)\n",
    "<br>-> 또한 일반적으로 생각했을 때, 기온과 습도는 상관관계가 있기에 다중공선성이 발생한다고 나올 수 있다. 그러나 기온은 높지만 습도가 낮을 때, 혹은 기온은 낮지만 습도가 높을 때가 분명히 존재하고 두 경우에서는 따릉이 이용량이 차이날 것이다. 따라서 두 변수 모두 독립변수로 사용하도록 한다."
   ]
  },
  {
   "cell_type": "markdown",
   "id": "81e1d8aa-6d32-47bf-9756-970b6cf73de1",
   "metadata": {},
   "source": [
    "<br>\n",
    "<br>"
   ]
  },
  {
   "cell_type": "markdown",
   "id": "771b6111-4a2f-4873-b7cf-ae80c97ca8cf",
   "metadata": {},
   "source": [
    "## 모델링"
   ]
  },
  {
   "cell_type": "markdown",
   "id": "c35c967e-90ac-4c51-9ac9-078523aa1f1b",
   "metadata": {},
   "source": [
    "#### **0. 학습 데이터, 예측 데이터 구분**"
   ]
  },
  {
   "cell_type": "code",
   "execution_count": 47,
   "id": "9fac355f-1d32-4864-a4ea-bc562a151119",
   "metadata": {},
   "outputs": [],
   "source": [
    "from sklearn.linear_model import LinearRegression\n",
    "from sklearn.model_selection import train_test_split \n",
    "from sklearn.metrics import mean_absolute_error, mean_squared_error, r2_score"
   ]
  },
  {
   "cell_type": "code",
   "execution_count": 48,
   "id": "7e153da8-514f-4808-be98-a35a97a11192",
   "metadata": {},
   "outputs": [
    {
     "data": {
      "text/plain": [
       "((65700, 55), (21900, 55))"
      ]
     },
     "execution_count": 48,
     "metadata": {},
     "output_type": "execute_result"
    }
   ],
   "source": [
    "train_set, test_set = train_test_split(oed_rental, test_size = 0.25, random_state=42)\n",
    "train_set.shape, test_set.shape"
   ]
  },
  {
   "cell_type": "code",
   "execution_count": 106,
   "id": "7a31fb20-32cb-4ab8-aed1-d80c06d16c35",
   "metadata": {},
   "outputs": [],
   "source": [
    "# 학습 데이터\n",
    "X_train = train_set.loc[:, train_set.columns != '대여건수'].reset_index(drop=True)\n",
    "y_train = np.log1p(train_set['대여건수']).reset_index(drop=True)\n",
    "\n",
    "# 예측 데이터\n",
    "X_test = test_set.loc[:, test_set.columns != '대여건수'].reset_index(drop=True)\n",
    "y_test = test_set['대여건수'].reset_index(drop=True)"
   ]
  },
  {
   "cell_type": "markdown",
   "id": "0c7f3a5a-9286-40ae-88c7-13726f6f721d",
   "metadata": {},
   "source": [
    "<br>"
   ]
  },
  {
   "cell_type": "markdown",
   "id": "aeec79b7-600a-4910-b039-ec2da824049b",
   "metadata": {},
   "source": [
    "#### **1. Linear Regression**\n",
    "- 예측 모델 간의 성능 비교를 위해 단순 선형회귀 분석을 진행"
   ]
  },
  {
   "cell_type": "code",
   "execution_count": 50,
   "id": "3074aae9-ac0c-4a8d-819b-da6c72b3fcd4",
   "metadata": {},
   "outputs": [
    {
     "data": {
      "text/html": [
       "<style>#sk-container-id-2 {color: black;background-color: white;}#sk-container-id-2 pre{padding: 0;}#sk-container-id-2 div.sk-toggleable {background-color: white;}#sk-container-id-2 label.sk-toggleable__label {cursor: pointer;display: block;width: 100%;margin-bottom: 0;padding: 0.3em;box-sizing: border-box;text-align: center;}#sk-container-id-2 label.sk-toggleable__label-arrow:before {content: \"▸\";float: left;margin-right: 0.25em;color: #696969;}#sk-container-id-2 label.sk-toggleable__label-arrow:hover:before {color: black;}#sk-container-id-2 div.sk-estimator:hover label.sk-toggleable__label-arrow:before {color: black;}#sk-container-id-2 div.sk-toggleable__content {max-height: 0;max-width: 0;overflow: hidden;text-align: left;background-color: #f0f8ff;}#sk-container-id-2 div.sk-toggleable__content pre {margin: 0.2em;color: black;border-radius: 0.25em;background-color: #f0f8ff;}#sk-container-id-2 input.sk-toggleable__control:checked~div.sk-toggleable__content {max-height: 200px;max-width: 100%;overflow: auto;}#sk-container-id-2 input.sk-toggleable__control:checked~label.sk-toggleable__label-arrow:before {content: \"▾\";}#sk-container-id-2 div.sk-estimator input.sk-toggleable__control:checked~label.sk-toggleable__label {background-color: #d4ebff;}#sk-container-id-2 div.sk-label input.sk-toggleable__control:checked~label.sk-toggleable__label {background-color: #d4ebff;}#sk-container-id-2 input.sk-hidden--visually {border: 0;clip: rect(1px 1px 1px 1px);clip: rect(1px, 1px, 1px, 1px);height: 1px;margin: -1px;overflow: hidden;padding: 0;position: absolute;width: 1px;}#sk-container-id-2 div.sk-estimator {font-family: monospace;background-color: #f0f8ff;border: 1px dotted black;border-radius: 0.25em;box-sizing: border-box;margin-bottom: 0.5em;}#sk-container-id-2 div.sk-estimator:hover {background-color: #d4ebff;}#sk-container-id-2 div.sk-parallel-item::after {content: \"\";width: 100%;border-bottom: 1px solid gray;flex-grow: 1;}#sk-container-id-2 div.sk-label:hover label.sk-toggleable__label {background-color: #d4ebff;}#sk-container-id-2 div.sk-serial::before {content: \"\";position: absolute;border-left: 1px solid gray;box-sizing: border-box;top: 0;bottom: 0;left: 50%;z-index: 0;}#sk-container-id-2 div.sk-serial {display: flex;flex-direction: column;align-items: center;background-color: white;padding-right: 0.2em;padding-left: 0.2em;position: relative;}#sk-container-id-2 div.sk-item {position: relative;z-index: 1;}#sk-container-id-2 div.sk-parallel {display: flex;align-items: stretch;justify-content: center;background-color: white;position: relative;}#sk-container-id-2 div.sk-item::before, #sk-container-id-2 div.sk-parallel-item::before {content: \"\";position: absolute;border-left: 1px solid gray;box-sizing: border-box;top: 0;bottom: 0;left: 50%;z-index: -1;}#sk-container-id-2 div.sk-parallel-item {display: flex;flex-direction: column;z-index: 1;position: relative;background-color: white;}#sk-container-id-2 div.sk-parallel-item:first-child::after {align-self: flex-end;width: 50%;}#sk-container-id-2 div.sk-parallel-item:last-child::after {align-self: flex-start;width: 50%;}#sk-container-id-2 div.sk-parallel-item:only-child::after {width: 0;}#sk-container-id-2 div.sk-dashed-wrapped {border: 1px dashed gray;margin: 0 0.4em 0.5em 0.4em;box-sizing: border-box;padding-bottom: 0.4em;background-color: white;}#sk-container-id-2 div.sk-label label {font-family: monospace;font-weight: bold;display: inline-block;line-height: 1.2em;}#sk-container-id-2 div.sk-label-container {text-align: center;}#sk-container-id-2 div.sk-container {/* jupyter's `normalize.less` sets `[hidden] { display: none; }` but bootstrap.min.css set `[hidden] { display: none !important; }` so we also need the `!important` here to be able to override the default hidden behavior on the sphinx rendered scikit-learn.org. See: https://github.com/scikit-learn/scikit-learn/issues/21755 */display: inline-block !important;position: relative;}#sk-container-id-2 div.sk-text-repr-fallback {display: none;}</style><div id=\"sk-container-id-2\" class=\"sk-top-container\"><div class=\"sk-text-repr-fallback\"><pre>LinearRegression()</pre><b>In a Jupyter environment, please rerun this cell to show the HTML representation or trust the notebook. <br />On GitHub, the HTML representation is unable to render, please try loading this page with nbviewer.org.</b></div><div class=\"sk-container\" hidden><div class=\"sk-item\"><div class=\"sk-estimator sk-toggleable\"><input class=\"sk-toggleable__control sk-hidden--visually\" id=\"sk-estimator-id-2\" type=\"checkbox\" checked><label for=\"sk-estimator-id-2\" class=\"sk-toggleable__label sk-toggleable__label-arrow\">LinearRegression</label><div class=\"sk-toggleable__content\"><pre>LinearRegression()</pre></div></div></div></div></div>"
      ],
      "text/plain": [
       "LinearRegression()"
      ]
     },
     "execution_count": 50,
     "metadata": {},
     "output_type": "execute_result"
    }
   ],
   "source": [
    "### 모델 생성 및 훈련\n",
    "lr = LinearRegression()\n",
    "lr.fit(X_train, y_train)"
   ]
  },
  {
   "cell_type": "code",
   "execution_count": 51,
   "id": "29df7d57-e800-4c3a-b8be-b2a60ca36b21",
   "metadata": {},
   "outputs": [],
   "source": [
    "### 예측\n",
    "lr_pred = lr.predict(X_test)"
   ]
  },
  {
   "cell_type": "code",
   "execution_count": 52,
   "id": "11a4ed7c-5282-4531-8870-db9d0dd98050",
   "metadata": {},
   "outputs": [
    {
     "name": "stdout",
     "output_type": "stream",
     "text": [
      "MAE : 3.392, MSE : 3.392\n",
      "R-squared : 0.503\n"
     ]
    }
   ],
   "source": [
    "### 평가\n",
    "lr_mae = mean_absolute_error(y_test, np.expm1(lr_pred))\n",
    "lr_mse = mean_squared_error(y_test, np.expm1(lr_pred))\n",
    "lr_rsquare = r2_score(y_test, np.expm1(lr_pred))\n",
    "\n",
    "print('MAE : {0:.3f}, MSE : {0:.3f}'.format(lr_mae, lr_mse))\n",
    "print('R-squared : {0:.3f}'.format(lr_rsquare))"
   ]
  },
  {
   "cell_type": "markdown",
   "id": "32ab4e7c-f6aa-4eaf-b122-a0ea709584c1",
   "metadata": {},
   "source": [
    "-> r^2을 보면 독립변수가 종속변수를 65% 정도 설명한다고 말할 수 있다. 또한 MAE를 보면 실제 건수와 평균 3대 정도 오차가 있다고 할 수 있다."
   ]
  },
  {
   "cell_type": "markdown",
   "id": "6a6c8172-e080-4a23-a276-dfdc2e4d0088",
   "metadata": {},
   "source": [
    "<br>"
   ]
  },
  {
   "cell_type": "markdown",
   "id": "b77b448a-ea98-4355-b74c-dbb46452a16f",
   "metadata": {},
   "source": [
    "#### **2. 랜덤 포레스트 회귀 모델**\n",
    "- 훈련 데이터를 랜덤으로 샘플링한 모델 n개를 각각 훈련하여 결과를 평균하는 방법\n",
    "<br>-> 여러 개의 작은 결정 트리를 만들어 그것들이 예측한 값들의 평균값을 최종 예측 값으로 정하는 것\n",
    "\n",
    "- 일반적으로 단순 선형회귀 모델보다 정확도가 높으며, 변수의 중요도를 알 수 있으므로 랜덤 포레스트를 사용해 봄"
   ]
  },
  {
   "cell_type": "code",
   "execution_count": 53,
   "id": "60a136b4-aa01-4188-ada6-5269983b5c0d",
   "metadata": {},
   "outputs": [],
   "source": [
    "from sklearn.ensemble import RandomForestRegressor\n",
    "from sklearn.model_selection import GridSearchCV"
   ]
  },
  {
   "cell_type": "code",
   "execution_count": 54,
   "id": "9f5f218e-071a-49cf-b14d-e65b919bc754",
   "metadata": {},
   "outputs": [
    {
     "data": {
      "text/html": [
       "<style>#sk-container-id-3 {color: black;background-color: white;}#sk-container-id-3 pre{padding: 0;}#sk-container-id-3 div.sk-toggleable {background-color: white;}#sk-container-id-3 label.sk-toggleable__label {cursor: pointer;display: block;width: 100%;margin-bottom: 0;padding: 0.3em;box-sizing: border-box;text-align: center;}#sk-container-id-3 label.sk-toggleable__label-arrow:before {content: \"▸\";float: left;margin-right: 0.25em;color: #696969;}#sk-container-id-3 label.sk-toggleable__label-arrow:hover:before {color: black;}#sk-container-id-3 div.sk-estimator:hover label.sk-toggleable__label-arrow:before {color: black;}#sk-container-id-3 div.sk-toggleable__content {max-height: 0;max-width: 0;overflow: hidden;text-align: left;background-color: #f0f8ff;}#sk-container-id-3 div.sk-toggleable__content pre {margin: 0.2em;color: black;border-radius: 0.25em;background-color: #f0f8ff;}#sk-container-id-3 input.sk-toggleable__control:checked~div.sk-toggleable__content {max-height: 200px;max-width: 100%;overflow: auto;}#sk-container-id-3 input.sk-toggleable__control:checked~label.sk-toggleable__label-arrow:before {content: \"▾\";}#sk-container-id-3 div.sk-estimator input.sk-toggleable__control:checked~label.sk-toggleable__label {background-color: #d4ebff;}#sk-container-id-3 div.sk-label input.sk-toggleable__control:checked~label.sk-toggleable__label {background-color: #d4ebff;}#sk-container-id-3 input.sk-hidden--visually {border: 0;clip: rect(1px 1px 1px 1px);clip: rect(1px, 1px, 1px, 1px);height: 1px;margin: -1px;overflow: hidden;padding: 0;position: absolute;width: 1px;}#sk-container-id-3 div.sk-estimator {font-family: monospace;background-color: #f0f8ff;border: 1px dotted black;border-radius: 0.25em;box-sizing: border-box;margin-bottom: 0.5em;}#sk-container-id-3 div.sk-estimator:hover {background-color: #d4ebff;}#sk-container-id-3 div.sk-parallel-item::after {content: \"\";width: 100%;border-bottom: 1px solid gray;flex-grow: 1;}#sk-container-id-3 div.sk-label:hover label.sk-toggleable__label {background-color: #d4ebff;}#sk-container-id-3 div.sk-serial::before {content: \"\";position: absolute;border-left: 1px solid gray;box-sizing: border-box;top: 0;bottom: 0;left: 50%;z-index: 0;}#sk-container-id-3 div.sk-serial {display: flex;flex-direction: column;align-items: center;background-color: white;padding-right: 0.2em;padding-left: 0.2em;position: relative;}#sk-container-id-3 div.sk-item {position: relative;z-index: 1;}#sk-container-id-3 div.sk-parallel {display: flex;align-items: stretch;justify-content: center;background-color: white;position: relative;}#sk-container-id-3 div.sk-item::before, #sk-container-id-3 div.sk-parallel-item::before {content: \"\";position: absolute;border-left: 1px solid gray;box-sizing: border-box;top: 0;bottom: 0;left: 50%;z-index: -1;}#sk-container-id-3 div.sk-parallel-item {display: flex;flex-direction: column;z-index: 1;position: relative;background-color: white;}#sk-container-id-3 div.sk-parallel-item:first-child::after {align-self: flex-end;width: 50%;}#sk-container-id-3 div.sk-parallel-item:last-child::after {align-self: flex-start;width: 50%;}#sk-container-id-3 div.sk-parallel-item:only-child::after {width: 0;}#sk-container-id-3 div.sk-dashed-wrapped {border: 1px dashed gray;margin: 0 0.4em 0.5em 0.4em;box-sizing: border-box;padding-bottom: 0.4em;background-color: white;}#sk-container-id-3 div.sk-label label {font-family: monospace;font-weight: bold;display: inline-block;line-height: 1.2em;}#sk-container-id-3 div.sk-label-container {text-align: center;}#sk-container-id-3 div.sk-container {/* jupyter's `normalize.less` sets `[hidden] { display: none; }` but bootstrap.min.css set `[hidden] { display: none !important; }` so we also need the `!important` here to be able to override the default hidden behavior on the sphinx rendered scikit-learn.org. See: https://github.com/scikit-learn/scikit-learn/issues/21755 */display: inline-block !important;position: relative;}#sk-container-id-3 div.sk-text-repr-fallback {display: none;}</style><div id=\"sk-container-id-3\" class=\"sk-top-container\"><div class=\"sk-text-repr-fallback\"><pre>GridSearchCV(cv=5, estimator=RandomForestRegressor(),\n",
       "             param_grid={&#x27;n_estimators&#x27;: [600, 750, 900], &#x27;random_state&#x27;: [42]})</pre><b>In a Jupyter environment, please rerun this cell to show the HTML representation or trust the notebook. <br />On GitHub, the HTML representation is unable to render, please try loading this page with nbviewer.org.</b></div><div class=\"sk-container\" hidden><div class=\"sk-item sk-dashed-wrapped\"><div class=\"sk-label-container\"><div class=\"sk-label sk-toggleable\"><input class=\"sk-toggleable__control sk-hidden--visually\" id=\"sk-estimator-id-3\" type=\"checkbox\" ><label for=\"sk-estimator-id-3\" class=\"sk-toggleable__label sk-toggleable__label-arrow\">GridSearchCV</label><div class=\"sk-toggleable__content\"><pre>GridSearchCV(cv=5, estimator=RandomForestRegressor(),\n",
       "             param_grid={&#x27;n_estimators&#x27;: [600, 750, 900], &#x27;random_state&#x27;: [42]})</pre></div></div></div><div class=\"sk-parallel\"><div class=\"sk-parallel-item\"><div class=\"sk-item\"><div class=\"sk-label-container\"><div class=\"sk-label sk-toggleable\"><input class=\"sk-toggleable__control sk-hidden--visually\" id=\"sk-estimator-id-4\" type=\"checkbox\" ><label for=\"sk-estimator-id-4\" class=\"sk-toggleable__label sk-toggleable__label-arrow\">estimator: RandomForestRegressor</label><div class=\"sk-toggleable__content\"><pre>RandomForestRegressor()</pre></div></div></div><div class=\"sk-serial\"><div class=\"sk-item\"><div class=\"sk-estimator sk-toggleable\"><input class=\"sk-toggleable__control sk-hidden--visually\" id=\"sk-estimator-id-5\" type=\"checkbox\" ><label for=\"sk-estimator-id-5\" class=\"sk-toggleable__label sk-toggleable__label-arrow\">RandomForestRegressor</label><div class=\"sk-toggleable__content\"><pre>RandomForestRegressor()</pre></div></div></div></div></div></div></div></div></div></div>"
      ],
      "text/plain": [
       "GridSearchCV(cv=5, estimator=RandomForestRegressor(),\n",
       "             param_grid={'n_estimators': [600, 750, 900], 'random_state': [42]})"
      ]
     },
     "execution_count": 54,
     "metadata": {},
     "output_type": "execute_result"
    }
   ],
   "source": [
    "### 모델 생성 및 훈련\n",
    "rf = RandomForestRegressor()\n",
    "\n",
    "# 그리드서치 객체 생성\n",
    "rf_params = {'random_state': [42],\n",
    "             'n_estimators': [600, 750, 900]} #결정 트리의 수\n",
    "\n",
    "grid_rf = GridSearchCV(estimator=rf, param_grid=rf_params, cv=5)\n",
    "\n",
    "# 그리드서치 수행\n",
    "grid_rf.fit(X_train, y_train)"
   ]
  },
  {
   "cell_type": "code",
   "execution_count": 55,
   "id": "cb3d5fc6-f47d-48f1-a452-53c105fe0c95",
   "metadata": {},
   "outputs": [
    {
     "name": "stdout",
     "output_type": "stream",
     "text": [
      "최적 하이퍼파라미터 : {'n_estimators': 900, 'random_state': 42}\n"
     ]
    }
   ],
   "source": [
    "# 최적 하이퍼파라미터 출력\n",
    "print('최적 하이퍼파라미터 :', grid_rf.best_params_)"
   ]
  },
  {
   "cell_type": "code",
   "execution_count": 56,
   "id": "fb1d391a-1204-446b-b5b1-dfca8a950f38",
   "metadata": {},
   "outputs": [],
   "source": [
    "### 예측\n",
    "rf_pred = grid_rf.best_estimator_.predict(X_test)"
   ]
  },
  {
   "cell_type": "code",
   "execution_count": 57,
   "id": "f8db3223-ceff-4181-8da6-2b673924039e",
   "metadata": {},
   "outputs": [
    {
     "name": "stdout",
     "output_type": "stream",
     "text": [
      "MAE : 2.522, MSE : 2.522\n",
      "R-squared : 0.772\n"
     ]
    }
   ],
   "source": [
    "### 평가\n",
    "rf_mae = mean_absolute_error(y_test, np.expm1(rf_pred))\n",
    "rf_mse = mean_squared_error(y_test, np.expm1(rf_pred))\n",
    "rf_rsquare = r2_score(y_test, np.expm1(rf_pred))\n",
    "\n",
    "print('MAE : {0:.3f}, MSE : {0:.3f}'.format(rf_mae, rf_mse))\n",
    "print('R-squared : {0:.3f}'.format(rf_rsquare))"
   ]
  },
  {
   "cell_type": "markdown",
   "id": "30bd9ea4-80f7-473a-a002-1d3c23478273",
   "metadata": {},
   "source": [
    "-> r^2을 보면 독립변수가 종속변수를 77% 정도 설명한다고 말할 수 있다. 또한 MAE를 보면 실제 건수와 평균 2대 정도 오차가 있다고 할 수 있다. 따릉이 수요 예측은 정확도가 중요한 작업이므로 단순 선형회귀 모델보다 r^2 값이 더 높은 랜덤 포레스트 모델을 이용해 수요 예측을 진행하기로 한다."
   ]
  },
  {
   "cell_type": "code",
   "execution_count": 58,
   "id": "7fb39c0b-1b21-4e11-b3fc-0618dac47b61",
   "metadata": {},
   "outputs": [
    {
     "name": "stderr",
     "output_type": "stream",
     "text": [
      "/var/folders/c6/kvlszyfj2q9_tv_8pb0y40qm0000gn/T/ipykernel_60480/556456798.py:4: UserWarning: \n",
      "\n",
      "`distplot` is a deprecated function and will be removed in seaborn v0.14.0.\n",
      "\n",
      "Please adapt your code to use either `displot` (a figure-level function with\n",
      "similar flexibility) or `histplot` (an axes-level function for histograms).\n",
      "\n",
      "For a guide to updating your code to use the new functions, please see\n",
      "https://gist.github.com/mwaskom/de44147ed2974457ad6372750bbe5751\n",
      "\n",
      "  sns.distplot(y_test, ax=axes[0][0])\n",
      "/Users/rynn/anaconda3/lib/python3.11/site-packages/seaborn/_oldcore.py:1119: FutureWarning: use_inf_as_na option is deprecated and will be removed in a future version. Convert inf values to NaN before operating instead.\n",
      "  with pd.option_context('mode.use_inf_as_na', True):\n",
      "/var/folders/c6/kvlszyfj2q9_tv_8pb0y40qm0000gn/T/ipykernel_60480/556456798.py:6: UserWarning: \n",
      "\n",
      "`distplot` is a deprecated function and will be removed in seaborn v0.14.0.\n",
      "\n",
      "Please adapt your code to use either `displot` (a figure-level function with\n",
      "similar flexibility) or `histplot` (an axes-level function for histograms).\n",
      "\n",
      "For a guide to updating your code to use the new functions, please see\n",
      "https://gist.github.com/mwaskom/de44147ed2974457ad6372750bbe5751\n",
      "\n",
      "  sns.distplot(np.expm1(rf_pred), ax=axes[0][1])\n",
      "/Users/rynn/anaconda3/lib/python3.11/site-packages/seaborn/_oldcore.py:1119: FutureWarning: use_inf_as_na option is deprecated and will be removed in a future version. Convert inf values to NaN before operating instead.\n",
      "  with pd.option_context('mode.use_inf_as_na', True):\n",
      "/var/folders/c6/kvlszyfj2q9_tv_8pb0y40qm0000gn/T/ipykernel_60480/556456798.py:9: UserWarning: \n",
      "\n",
      "`distplot` is a deprecated function and will be removed in seaborn v0.14.0.\n",
      "\n",
      "Please adapt your code to use either `displot` (a figure-level function with\n",
      "similar flexibility) or `histplot` (an axes-level function for histograms).\n",
      "\n",
      "For a guide to updating your code to use the new functions, please see\n",
      "https://gist.github.com/mwaskom/de44147ed2974457ad6372750bbe5751\n",
      "\n",
      "  sns.distplot(np.log1p(y_test), ax=axes[1][0])\n",
      "/Users/rynn/anaconda3/lib/python3.11/site-packages/seaborn/_oldcore.py:1119: FutureWarning: use_inf_as_na option is deprecated and will be removed in a future version. Convert inf values to NaN before operating instead.\n",
      "  with pd.option_context('mode.use_inf_as_na', True):\n",
      "/var/folders/c6/kvlszyfj2q9_tv_8pb0y40qm0000gn/T/ipykernel_60480/556456798.py:11: UserWarning: \n",
      "\n",
      "`distplot` is a deprecated function and will be removed in seaborn v0.14.0.\n",
      "\n",
      "Please adapt your code to use either `displot` (a figure-level function with\n",
      "similar flexibility) or `histplot` (an axes-level function for histograms).\n",
      "\n",
      "For a guide to updating your code to use the new functions, please see\n",
      "https://gist.github.com/mwaskom/de44147ed2974457ad6372750bbe5751\n",
      "\n",
      "  sns.distplot(rf_pred, ax=axes[1][1])\n",
      "/Users/rynn/anaconda3/lib/python3.11/site-packages/seaborn/_oldcore.py:1119: FutureWarning: use_inf_as_na option is deprecated and will be removed in a future version. Convert inf values to NaN before operating instead.\n",
      "  with pd.option_context('mode.use_inf_as_na', True):\n"
     ]
    },
    {
     "data": {
      "image/png": "[encoded data removed]",
      "text/plain": [
       "<Figure size 2000x1200 with 4 Axes>"
      ]
     },
     "metadata": {},
     "output_type": "display_data"
    }
   ],
   "source": [
    "### 실제 값과 예측 값의 분포 비교\n",
    "fig, axes = plt.subplots(2, 2, figsize=(20, 12))\n",
    "\n",
    "sns.distplot(y_test, ax=axes[0][0])\n",
    "axes[0][0].set_title('실제 대여건수의 분포')\n",
    "sns.distplot(np.expm1(rf_pred), ax=axes[0][1])\n",
    "axes[0][1].set_title('예측 대여건수의 분포')\n",
    "\n",
    "sns.distplot(np.log1p(y_test), ax=axes[1][0])\n",
    "axes[1][0].set_title('로그변환된 실제 대여건수의 분포')\n",
    "sns.distplot(rf_pred, ax=axes[1][1])\n",
    "axes[1][1].set_title('로그변환된 예측 대여건수의 분포')\n",
    "\n",
    "plt.show()"
   ]
  },
  {
   "cell_type": "markdown",
   "id": "f44e589e-04f1-40f5-b4d9-7b9ee6142a55",
   "metadata": {},
   "source": [
    "<br>"
   ]
  },
  {
   "cell_type": "markdown",
   "id": "e8dfa65b-2224-43ff-a979-92f65992214b",
   "metadata": {},
   "source": [
    "#### **변수 중요도 확인**"
   ]
  },
  {
   "cell_type": "code",
   "execution_count": 59,
   "id": "2e2fa20c-264f-4d22-b1e7-c3fa3494e9f9",
   "metadata": {},
   "outputs": [
    {
     "data": {
      "image/png": "[encoded data removed]",
      "text/plain": [
       "<Figure size 600x800 with 1 Axes>"
      ]
     },
     "metadata": {},
     "output_type": "display_data"
    }
   ],
   "source": [
    "# 랜덤 포레스트 기반 변수 중요도 \n",
    "feature_imp = grid_rf.best_estimator_.feature_importances_\n",
    "feature_imp = pd.Series(feature_imp, index=X_train.columns).sort_values(ascending=False)[:20] #중요도 상위 20개\n",
    "\n",
    "# 시각화\n",
    "plt.figure(figsize=(6, 8))\n",
    "plt.title('변수 중요도 상위 20개')\n",
    "sns.barplot(x=feature_imp, y=feature_imp.index)\n",
    "plt.show()"
   ]
  },
  {
   "cell_type": "markdown",
   "id": "23abf98b-7cad-4707-9ae1-fc29e708ec93",
   "metadata": {},
   "source": [
    "-> 예상대로 날씨가 따릉이 대여에 많은 영향을 미치는 것 같다. 특히 기온이 따릉이 수요량에 가장 중요하게 작용하고 있으며, 강수량, 습도, 미세먼지농도, 풍속 등도 다른 변수들에 비해 영향을 많이 미치고 있다. 시간대를 보면 6과 3이 다른 시간대에 비해 가장 높게 나오고 있는데, 이는 시간대 6이 퇴근 시간대(17-19시)고, 시간대 3은 출근 시간대(8-10시)기 때문으로 예상된다."
   ]
  },
  {
   "cell_type": "markdown",
   "id": "267250e7-dec8-4a42-a5a6-6136a4c7f407",
   "metadata": {},
   "source": [
    "<br>\n",
    "<br>"
   ]
  },
  {
   "cell_type": "markdown",
   "id": "ab8d0729-975b-4ade-92da-999e9b96f0c4",
   "metadata": {},
   "source": [
    "## 따릉이 총 수요 예측\n",
    "- 반납 데이터에 대해서도 랜덤 포레스트 모델을 이용해 예측 모델을 생성\n",
    "- 대여소/시간대/날씨에 따라 대여건수와 반납건수를 각각 예측한 후, 반납건수-대여건수를 계산해서 따릉이 총 수요를 예측"
   ]
  },
  {
   "cell_type": "markdown",
   "id": "b9c873fa-cbeb-4977-91a1-798ecbbfd8ff",
   "metadata": {},
   "source": [
    "#### **반납건수 예측 모델 생성**"
   ]
  },
  {
   "cell_type": "code",
   "execution_count": 60,
   "id": "793b7a30-f68d-4ece-abeb-ff57a62fcb17",
   "metadata": {},
   "outputs": [
    {
     "data": {
      "text/html": [
       "<div>\n",
       "<style scoped>\n",
       "    .dataframe tbody tr th:only-of-type {\n",
       "        vertical-align: middle;\n",
       "    }\n",
       "\n",
       "    .dataframe tbody tr th {\n",
       "        vertical-align: top;\n",
       "    }\n",
       "\n",
       "    .dataframe thead th {\n",
       "        text-align: right;\n",
       "    }\n",
       "</style>\n",
       "<table border=\"1\" class=\"dataframe\">\n",
       "  <thead>\n",
       "    <tr style=\"text-align: right;\">\n",
       "      <th></th>\n",
       "      <th>시간대</th>\n",
       "      <th>기온(°C)</th>\n",
       "      <th>강수량(mm)</th>\n",
       "      <th>풍속(m/s)</th>\n",
       "      <th>습도(%)</th>\n",
       "      <th>적설(cm)</th>\n",
       "      <th>미세먼지농도(㎍/㎥)</th>\n",
       "      <th>대여소번호</th>\n",
       "      <th>반납건수</th>\n",
       "      <th>반납월</th>\n",
       "      <th>평일</th>\n",
       "    </tr>\n",
       "  </thead>\n",
       "  <tbody>\n",
       "    <tr>\n",
       "      <th>0</th>\n",
       "      <td>1</td>\n",
       "      <td>1.533333</td>\n",
       "      <td>0.000000</td>\n",
       "      <td>1.633333</td>\n",
       "      <td>73.333333</td>\n",
       "      <td>0.000000</td>\n",
       "      <td>84.333333</td>\n",
       "      <td>162</td>\n",
       "      <td>1</td>\n",
       "      <td>1</td>\n",
       "      <td>0</td>\n",
       "    </tr>\n",
       "    <tr>\n",
       "      <th>1</th>\n",
       "      <td>1</td>\n",
       "      <td>1.533333</td>\n",
       "      <td>0.000000</td>\n",
       "      <td>1.633333</td>\n",
       "      <td>73.333333</td>\n",
       "      <td>0.000000</td>\n",
       "      <td>84.333333</td>\n",
       "      <td>207</td>\n",
       "      <td>4</td>\n",
       "      <td>1</td>\n",
       "      <td>0</td>\n",
       "    </tr>\n",
       "    <tr>\n",
       "      <th>2</th>\n",
       "      <td>1</td>\n",
       "      <td>1.533333</td>\n",
       "      <td>0.000000</td>\n",
       "      <td>1.633333</td>\n",
       "      <td>73.333333</td>\n",
       "      <td>0.000000</td>\n",
       "      <td>84.333333</td>\n",
       "      <td>213</td>\n",
       "      <td>2</td>\n",
       "      <td>1</td>\n",
       "      <td>0</td>\n",
       "    </tr>\n",
       "    <tr>\n",
       "      <th>3</th>\n",
       "      <td>1</td>\n",
       "      <td>1.533333</td>\n",
       "      <td>0.000000</td>\n",
       "      <td>1.633333</td>\n",
       "      <td>73.333333</td>\n",
       "      <td>0.000000</td>\n",
       "      <td>84.333333</td>\n",
       "      <td>434</td>\n",
       "      <td>0</td>\n",
       "      <td>1</td>\n",
       "      <td>0</td>\n",
       "    </tr>\n",
       "    <tr>\n",
       "      <th>4</th>\n",
       "      <td>1</td>\n",
       "      <td>1.533333</td>\n",
       "      <td>0.000000</td>\n",
       "      <td>1.633333</td>\n",
       "      <td>73.333333</td>\n",
       "      <td>0.000000</td>\n",
       "      <td>84.333333</td>\n",
       "      <td>474</td>\n",
       "      <td>1</td>\n",
       "      <td>1</td>\n",
       "      <td>0</td>\n",
       "    </tr>\n",
       "    <tr>\n",
       "      <th>...</th>\n",
       "      <td>...</td>\n",
       "      <td>...</td>\n",
       "      <td>...</td>\n",
       "      <td>...</td>\n",
       "      <td>...</td>\n",
       "      <td>...</td>\n",
       "      <td>...</td>\n",
       "      <td>...</td>\n",
       "      <td>...</td>\n",
       "      <td>...</td>\n",
       "      <td>...</td>\n",
       "    </tr>\n",
       "    <tr>\n",
       "      <th>87595</th>\n",
       "      <td>8</td>\n",
       "      <td>1.700000</td>\n",
       "      <td>0.566667</td>\n",
       "      <td>2.033333</td>\n",
       "      <td>97.666667</td>\n",
       "      <td>6.566667</td>\n",
       "      <td>26.333333</td>\n",
       "      <td>3758</td>\n",
       "      <td>0</td>\n",
       "      <td>12</td>\n",
       "      <td>0</td>\n",
       "    </tr>\n",
       "    <tr>\n",
       "      <th>87596</th>\n",
       "      <td>8</td>\n",
       "      <td>1.700000</td>\n",
       "      <td>0.566667</td>\n",
       "      <td>2.033333</td>\n",
       "      <td>97.666667</td>\n",
       "      <td>6.566667</td>\n",
       "      <td>26.333333</td>\n",
       "      <td>4009</td>\n",
       "      <td>0</td>\n",
       "      <td>12</td>\n",
       "      <td>0</td>\n",
       "    </tr>\n",
       "    <tr>\n",
       "      <th>87597</th>\n",
       "      <td>8</td>\n",
       "      <td>1.700000</td>\n",
       "      <td>0.566667</td>\n",
       "      <td>2.033333</td>\n",
       "      <td>97.666667</td>\n",
       "      <td>6.566667</td>\n",
       "      <td>26.333333</td>\n",
       "      <td>4221</td>\n",
       "      <td>0</td>\n",
       "      <td>12</td>\n",
       "      <td>0</td>\n",
       "    </tr>\n",
       "    <tr>\n",
       "      <th>87598</th>\n",
       "      <td>8</td>\n",
       "      <td>1.700000</td>\n",
       "      <td>0.566667</td>\n",
       "      <td>2.033333</td>\n",
       "      <td>97.666667</td>\n",
       "      <td>6.566667</td>\n",
       "      <td>26.333333</td>\n",
       "      <td>4591</td>\n",
       "      <td>0</td>\n",
       "      <td>12</td>\n",
       "      <td>0</td>\n",
       "    </tr>\n",
       "    <tr>\n",
       "      <th>87599</th>\n",
       "      <td>8</td>\n",
       "      <td>1.700000</td>\n",
       "      <td>0.566667</td>\n",
       "      <td>2.033333</td>\n",
       "      <td>97.666667</td>\n",
       "      <td>6.566667</td>\n",
       "      <td>26.333333</td>\n",
       "      <td>4621</td>\n",
       "      <td>0</td>\n",
       "      <td>12</td>\n",
       "      <td>0</td>\n",
       "    </tr>\n",
       "  </tbody>\n",
       "</table>\n",
       "<p>87600 rows × 11 columns</p>\n",
       "</div>"
      ],
      "text/plain": [
       "      시간대    기온(°C)   강수량(mm)   풍속(m/s)      습도(%)    적설(cm)  미세먼지농도(㎍/㎥)  \\\n",
       "0       1  1.533333  0.000000  1.633333  73.333333  0.000000    84.333333   \n",
       "1       1  1.533333  0.000000  1.633333  73.333333  0.000000    84.333333   \n",
       "2       1  1.533333  0.000000  1.633333  73.333333  0.000000    84.333333   \n",
       "3       1  1.533333  0.000000  1.633333  73.333333  0.000000    84.333333   \n",
       "4       1  1.533333  0.000000  1.633333  73.333333  0.000000    84.333333   \n",
       "...    ..       ...       ...       ...        ...       ...          ...   \n",
       "87595   8  1.700000  0.566667  2.033333  97.666667  6.566667    26.333333   \n",
       "87596   8  1.700000  0.566667  2.033333  97.666667  6.566667    26.333333   \n",
       "87597   8  1.700000  0.566667  2.033333  97.666667  6.566667    26.333333   \n",
       "87598   8  1.700000  0.566667  2.033333  97.666667  6.566667    26.333333   \n",
       "87599   8  1.700000  0.566667  2.033333  97.666667  6.566667    26.333333   \n",
       "\n",
       "      대여소번호  반납건수 반납월 평일  \n",
       "0       162     1   1  0  \n",
       "1       207     4   1  0  \n",
       "2       213     2   1  0  \n",
       "3       434     0   1  0  \n",
       "4       474     1   1  0  \n",
       "...     ...   ...  .. ..  \n",
       "87595  3758     0  12  0  \n",
       "87596  4009     0  12  0  \n",
       "87597  4221     0  12  0  \n",
       "87598  4591     0  12  0  \n",
       "87599  4621     0  12  0  \n",
       "\n",
       "[87600 rows x 11 columns]"
      ]
     },
     "execution_count": 60,
     "metadata": {},
     "output_type": "execute_result"
    }
   ],
   "source": [
    "### 반납 데이터\n",
    "bike_return"
   ]
  },
  {
   "cell_type": "code",
   "execution_count": 77,
   "id": "3a0266e3-1a2a-47a3-98e6-effd1edb3e74",
   "metadata": {},
   "outputs": [],
   "source": [
    "# 반납월 변수명을 대여월로 변경 (나중에 수요 예측 시 대여 데이터와 변수명을 맞추기 위함)\n",
    "bike_return.rename(columns = {'반납월':'대여월'}, inplace=True)"
   ]
  },
  {
   "cell_type": "code",
   "execution_count": 78,
   "id": "f0420290-0708-4d6c-81ce-bb3fac0e4427",
   "metadata": {},
   "outputs": [
    {
     "data": {
      "text/plain": [
       "Index(['시간대', '기온(°C)', '강수량(mm)', '풍속(m/s)', '습도(%)', '적설(cm)', '미세먼지농도(㎍/㎥)',\n",
       "       '대여소번호', '반납건수', '대여월', '평일'],\n",
       "      dtype='object')"
      ]
     },
     "execution_count": 78,
     "metadata": {},
     "output_type": "execute_result"
    }
   ],
   "source": [
    "bike_return.columns"
   ]
  },
  {
   "cell_type": "code",
   "execution_count": 79,
   "id": "2591bf3f-d400-49dd-a6e1-9af4558cbaf9",
   "metadata": {},
   "outputs": [
    {
     "data": {
      "text/plain": [
       "Index(['시간대', '기온(°C)', '강수량(mm)', '풍속(m/s)', '습도(%)', '적설(cm)', '미세먼지농도(㎍/㎥)',\n",
       "       '대여소번호', '대여건수', '대여월', '평일'],\n",
       "      dtype='object')"
      ]
     },
     "execution_count": 79,
     "metadata": {},
     "output_type": "execute_result"
    }
   ],
   "source": [
    "bike_rental.columns"
   ]
  },
  {
   "cell_type": "code",
   "execution_count": 81,
   "id": "9254b131-f5dc-49cd-9969-8d46e2394960",
   "metadata": {},
   "outputs": [],
   "source": [
    "### 원핫인코딩\n",
    "oed_return = pd.get_dummies(data = bike_return, columns = ['대여소번호', '시간대', '대여월'], drop_first=True, dtype=int)"
   ]
  },
  {
   "cell_type": "code",
   "execution_count": 82,
   "id": "4fccece7-2ced-46a0-b964-78954140c86a",
   "metadata": {},
   "outputs": [],
   "source": [
    "### 학습/예측 데이터 구분\n",
    "train_set_2, test_set_2 = train_test_split(oed_return, test_size = 0.25, random_state=42)\n",
    "\n",
    "# 학습 데이터\n",
    "X_train_2 = train_set_2.loc[:, train_set_2.columns != '반납건수'].reset_index(drop=True)\n",
    "y_train_2 = np.log1p(train_set_2['반납건수']).reset_index(drop=True)\n",
    "\n",
    "# 예측 데이터\n",
    "X_test_2 = test_set_2.loc[:, test_set_2.columns != '반납건수'].reset_index(drop=True)\n",
    "y_test_2 = test_set_2['반납건수'].reset_index(drop=True)"
   ]
  },
  {
   "cell_type": "code",
   "execution_count": 83,
   "id": "afa33325-9e41-4ea4-bc45-fc1afa380873",
   "metadata": {},
   "outputs": [
    {
     "data": {
      "text/html": [
       "<style>#sk-container-id-5 {color: black;background-color: white;}#sk-container-id-5 pre{padding: 0;}#sk-container-id-5 div.sk-toggleable {background-color: white;}#sk-container-id-5 label.sk-toggleable__label {cursor: pointer;display: block;width: 100%;margin-bottom: 0;padding: 0.3em;box-sizing: border-box;text-align: center;}#sk-container-id-5 label.sk-toggleable__label-arrow:before {content: \"▸\";float: left;margin-right: 0.25em;color: #696969;}#sk-container-id-5 label.sk-toggleable__label-arrow:hover:before {color: black;}#sk-container-id-5 div.sk-estimator:hover label.sk-toggleable__label-arrow:before {color: black;}#sk-container-id-5 div.sk-toggleable__content {max-height: 0;max-width: 0;overflow: hidden;text-align: left;background-color: #f0f8ff;}#sk-container-id-5 div.sk-toggleable__content pre {margin: 0.2em;color: black;border-radius: 0.25em;background-color: #f0f8ff;}#sk-container-id-5 input.sk-toggleable__control:checked~div.sk-toggleable__content {max-height: 200px;max-width: 100%;overflow: auto;}#sk-container-id-5 input.sk-toggleable__control:checked~label.sk-toggleable__label-arrow:before {content: \"▾\";}#sk-container-id-5 div.sk-estimator input.sk-toggleable__control:checked~label.sk-toggleable__label {background-color: #d4ebff;}#sk-container-id-5 div.sk-label input.sk-toggleable__control:checked~label.sk-toggleable__label {background-color: #d4ebff;}#sk-container-id-5 input.sk-hidden--visually {border: 0;clip: rect(1px 1px 1px 1px);clip: rect(1px, 1px, 1px, 1px);height: 1px;margin: -1px;overflow: hidden;padding: 0;position: absolute;width: 1px;}#sk-container-id-5 div.sk-estimator {font-family: monospace;background-color: #f0f8ff;border: 1px dotted black;border-radius: 0.25em;box-sizing: border-box;margin-bottom: 0.5em;}#sk-container-id-5 div.sk-estimator:hover {background-color: #d4ebff;}#sk-container-id-5 div.sk-parallel-item::after {content: \"\";width: 100%;border-bottom: 1px solid gray;flex-grow: 1;}#sk-container-id-5 div.sk-label:hover label.sk-toggleable__label {background-color: #d4ebff;}#sk-container-id-5 div.sk-serial::before {content: \"\";position: absolute;border-left: 1px solid gray;box-sizing: border-box;top: 0;bottom: 0;left: 50%;z-index: 0;}#sk-container-id-5 div.sk-serial {display: flex;flex-direction: column;align-items: center;background-color: white;padding-right: 0.2em;padding-left: 0.2em;position: relative;}#sk-container-id-5 div.sk-item {position: relative;z-index: 1;}#sk-container-id-5 div.sk-parallel {display: flex;align-items: stretch;justify-content: center;background-color: white;position: relative;}#sk-container-id-5 div.sk-item::before, #sk-container-id-5 div.sk-parallel-item::before {content: \"\";position: absolute;border-left: 1px solid gray;box-sizing: border-box;top: 0;bottom: 0;left: 50%;z-index: -1;}#sk-container-id-5 div.sk-parallel-item {display: flex;flex-direction: column;z-index: 1;position: relative;background-color: white;}#sk-container-id-5 div.sk-parallel-item:first-child::after {align-self: flex-end;width: 50%;}#sk-container-id-5 div.sk-parallel-item:last-child::after {align-self: flex-start;width: 50%;}#sk-container-id-5 div.sk-parallel-item:only-child::after {width: 0;}#sk-container-id-5 div.sk-dashed-wrapped {border: 1px dashed gray;margin: 0 0.4em 0.5em 0.4em;box-sizing: border-box;padding-bottom: 0.4em;background-color: white;}#sk-container-id-5 div.sk-label label {font-family: monospace;font-weight: bold;display: inline-block;line-height: 1.2em;}#sk-container-id-5 div.sk-label-container {text-align: center;}#sk-container-id-5 div.sk-container {/* jupyter's `normalize.less` sets `[hidden] { display: none; }` but bootstrap.min.css set `[hidden] { display: none !important; }` so we also need the `!important` here to be able to override the default hidden behavior on the sphinx rendered scikit-learn.org. See: https://github.com/scikit-learn/scikit-learn/issues/21755 */display: inline-block !important;position: relative;}#sk-container-id-5 div.sk-text-repr-fallback {display: none;}</style><div id=\"sk-container-id-5\" class=\"sk-top-container\"><div class=\"sk-text-repr-fallback\"><pre>RandomForestRegressor(n_estimators=900, random_state=42)</pre><b>In a Jupyter environment, please rerun this cell to show the HTML representation or trust the notebook. <br />On GitHub, the HTML representation is unable to render, please try loading this page with nbviewer.org.</b></div><div class=\"sk-container\" hidden><div class=\"sk-item\"><div class=\"sk-estimator sk-toggleable\"><input class=\"sk-toggleable__control sk-hidden--visually\" id=\"sk-estimator-id-7\" type=\"checkbox\" checked><label for=\"sk-estimator-id-7\" class=\"sk-toggleable__label sk-toggleable__label-arrow\">RandomForestRegressor</label><div class=\"sk-toggleable__content\"><pre>RandomForestRegressor(n_estimators=900, random_state=42)</pre></div></div></div></div></div>"
      ],
      "text/plain": [
       "RandomForestRegressor(n_estimators=900, random_state=42)"
      ]
     },
     "execution_count": 83,
     "metadata": {},
     "output_type": "execute_result"
    }
   ],
   "source": [
    "### 랜덤 포레스트 모델 생성 및 훈련\n",
    "rf_2 = RandomForestRegressor(random_state=42, n_estimators=900)\n",
    "rf_2.fit(X_train_2, y_train_2)"
   ]
  },
  {
   "cell_type": "code",
   "execution_count": 84,
   "id": "fcfa5d5d-2d42-44a2-bd65-b85afa702067",
   "metadata": {},
   "outputs": [],
   "source": [
    "### 예측\n",
    "rf_pred_2 = rf_2.predict(X_test_2)"
   ]
  },
  {
   "cell_type": "code",
   "execution_count": 85,
   "id": "62053ed1-2785-4ed4-97df-82145b2eac06",
   "metadata": {},
   "outputs": [
    {
     "name": "stdout",
     "output_type": "stream",
     "text": [
      "MAE : 2.164, MSE : 2.164\n",
      "R-squared : 0.773\n"
     ]
    }
   ],
   "source": [
    "### 평가\n",
    "rf_mae_2 = mean_absolute_error(y_test_2, np.expm1(rf_pred_2))\n",
    "rf_mse_2 = mean_squared_error(y_test_2, np.expm1(rf_pred_2))\n",
    "rf_rsquare_2 = r2_score(y_test_2, np.expm1(rf_pred_2))\n",
    "\n",
    "print('MAE : {0:.3f}, MSE : {0:.3f}'.format(rf_mae_2, rf_mse_2))\n",
    "print('R-squared : {0:.3f}'.format(rf_rsquare_2))"
   ]
  },
  {
   "cell_type": "markdown",
   "id": "9eda9190-d43f-4d48-987e-aca9bfbea62f",
   "metadata": {},
   "source": [
    "-> r^2을 보면 독립변수가 종속변수를 77% 정도 설명한다고 말할 수 있다. 또한 MAE를 보면 실제 건수와 평균 2대 정도 오차가 있다고 할 수 있다."
   ]
  },
  {
   "cell_type": "code",
   "execution_count": 86,
   "id": "a763379a-a6e1-4def-b598-811dbe200ab7",
   "metadata": {},
   "outputs": [
    {
     "name": "stderr",
     "output_type": "stream",
     "text": [
      "/var/folders/c6/kvlszyfj2q9_tv_8pb0y40qm0000gn/T/ipykernel_60480/3930671533.py:4: UserWarning: \n",
      "\n",
      "`distplot` is a deprecated function and will be removed in seaborn v0.14.0.\n",
      "\n",
      "Please adapt your code to use either `displot` (a figure-level function with\n",
      "similar flexibility) or `histplot` (an axes-level function for histograms).\n",
      "\n",
      "For a guide to updating your code to use the new functions, please see\n",
      "https://gist.github.com/mwaskom/de44147ed2974457ad6372750bbe5751\n",
      "\n",
      "  sns.distplot(y_test_2, ax=axes[0][0])\n",
      "/Users/rynn/anaconda3/lib/python3.11/site-packages/seaborn/_oldcore.py:1119: FutureWarning: use_inf_as_na option is deprecated and will be removed in a future version. Convert inf values to NaN before operating instead.\n",
      "  with pd.option_context('mode.use_inf_as_na', True):\n",
      "/var/folders/c6/kvlszyfj2q9_tv_8pb0y40qm0000gn/T/ipykernel_60480/3930671533.py:6: UserWarning: \n",
      "\n",
      "`distplot` is a deprecated function and will be removed in seaborn v0.14.0.\n",
      "\n",
      "Please adapt your code to use either `displot` (a figure-level function with\n",
      "similar flexibility) or `histplot` (an axes-level function for histograms).\n",
      "\n",
      "For a guide to updating your code to use the new functions, please see\n",
      "https://gist.github.com/mwaskom/de44147ed2974457ad6372750bbe5751\n",
      "\n",
      "  sns.distplot(np.expm1(rf_pred_2), ax=axes[0][1])\n",
      "/Users/rynn/anaconda3/lib/python3.11/site-packages/seaborn/_oldcore.py:1119: FutureWarning: use_inf_as_na option is deprecated and will be removed in a future version. Convert inf values to NaN before operating instead.\n",
      "  with pd.option_context('mode.use_inf_as_na', True):\n",
      "/var/folders/c6/kvlszyfj2q9_tv_8pb0y40qm0000gn/T/ipykernel_60480/3930671533.py:9: UserWarning: \n",
      "\n",
      "`distplot` is a deprecated function and will be removed in seaborn v0.14.0.\n",
      "\n",
      "Please adapt your code to use either `displot` (a figure-level function with\n",
      "similar flexibility) or `histplot` (an axes-level function for histograms).\n",
      "\n",
      "For a guide to updating your code to use the new functions, please see\n",
      "https://gist.github.com/mwaskom/de44147ed2974457ad6372750bbe5751\n",
      "\n",
      "  sns.distplot(np.log1p(y_test_2), ax=axes[1][0])\n",
      "/Users/rynn/anaconda3/lib/python3.11/site-packages/seaborn/_oldcore.py:1119: FutureWarning: use_inf_as_na option is deprecated and will be removed in a future version. Convert inf values to NaN before operating instead.\n",
      "  with pd.option_context('mode.use_inf_as_na', True):\n",
      "/var/folders/c6/kvlszyfj2q9_tv_8pb0y40qm0000gn/T/ipykernel_60480/3930671533.py:11: UserWarning: \n",
      "\n",
      "`distplot` is a deprecated function and will be removed in seaborn v0.14.0.\n",
      "\n",
      "Please adapt your code to use either `displot` (a figure-level function with\n",
      "similar flexibility) or `histplot` (an axes-level function for histograms).\n",
      "\n",
      "For a guide to updating your code to use the new functions, please see\n",
      "https://gist.github.com/mwaskom/de44147ed2974457ad6372750bbe5751\n",
      "\n",
      "  sns.distplot(rf_pred_2, ax=axes[1][1])\n",
      "/Users/rynn/anaconda3/lib/python3.11/site-packages/seaborn/_oldcore.py:1119: FutureWarning: use_inf_as_na option is deprecated and will be removed in a future version. Convert inf values to NaN before operating instead.\n",
      "  with pd.option_context('mode.use_inf_as_na', True):\n"
     ]
    },
    {
     "data": {
      "image/png": "[encoded data removed]",
      "text/plain": [
       "<Figure size 2000x1200 with 4 Axes>"
      ]
     },
     "metadata": {},
     "output_type": "display_data"
    }
   ],
   "source": [
    "### 실제 값과 예측 값의 분포 비교\n",
    "fig, axes = plt.subplots(2, 2, figsize=(20, 12))\n",
    "\n",
    "sns.distplot(y_test_2, ax=axes[0][0])\n",
    "axes[0][0].set_title('실제 반납건수의 분포')\n",
    "sns.distplot(np.expm1(rf_pred_2), ax=axes[0][1])\n",
    "axes[0][1].set_title('예측 반납건수의 분포')\n",
    "\n",
    "sns.distplot(np.log1p(y_test_2), ax=axes[1][0])\n",
    "axes[1][0].set_title('로그변환된 실제 반납건수의 분포')\n",
    "sns.distplot(rf_pred_2, ax=axes[1][1])\n",
    "axes[1][1].set_title('로그변환된 예측 반납건수의 분포')\n",
    "\n",
    "plt.show()"
   ]
  },
  {
   "cell_type": "markdown",
   "id": "755430c5-0b5f-426b-ae02-d49b7dd66224",
   "metadata": {},
   "source": [
    "<br>"
   ]
  },
  {
   "cell_type": "markdown",
   "id": "810d8f8b-aec9-4fbd-a893-168ee1614563",
   "metadata": {},
   "source": [
    "#### **총 수요 예측**\n",
    "- 앞서 만들었던 랜덤 포레스트 기반의 대여건수/반납건수 예측 모델로 총 예상 수요(예상 반납건수 - 예상 대여건수)를 계산"
   ]
  },
  {
   "cell_type": "code",
   "execution_count": 94,
   "id": "d98fd018-f0cc-4e06-b2c5-53237d4faf0c",
   "metadata": {},
   "outputs": [],
   "source": [
    "### 따릉이 수요 예측 함수\n",
    "def bike_demand(data):\n",
    "    \n",
    "    # 입력받은 데이터를 데이터프레임으로 변환\n",
    "    col_names = X_train.columns\n",
    "    data_df = pd.DataFrame(data, columns=col_names)\n",
    "    \n",
    "    # 대여건수 예측\n",
    "    rental_pred = grid_rf.best_estimator_.predict(data_df)\n",
    "    rental_result = round(np.expm1(rental_pred)[0])\n",
    "\n",
    "    # 반납건수 예측\n",
    "    return_pred = rf_2.predict(data_df)\n",
    "    return_result = round(np.expm1(return_pred)[0])\n",
    "\n",
    "    print('따릉이 예상 대여건수는 {}대, 예상 반납건수는 {}대 입니다.'.format(rental_result, return_result))\n",
    "\n",
    "    # 반납건수 - 대여건수\n",
    "    total_result = return_result - rental_result\n",
    "\n",
    "    if total_result <= 0:\n",
    "        print('--> 따릉이 부족! 따릉이가 약 {}대 더 필요합니다.'.format(-total_result))\n",
    "    else:\n",
    "        print('--> 따릉이가 약 {}대 남아있습니다.'.format(total_result))"
   ]
  },
  {
   "cell_type": "code",
   "execution_count": 103,
   "id": "885db732-4d9a-49c0-9b3e-6ae887fe3bfc",
   "metadata": {},
   "outputs": [],
   "source": [
    "### 수요 예측 모델에 넣을 데이터\n",
    "'''\n",
    "대여소 - 574번 아차산역4번출구 (반납-대여 불균형이 가장 심한 대여소)\n",
    "시간대 - 평일: 1(평일) / 월: 5월 / 시간대: 6(17-19시) (평일 퇴근 시간대)\n",
    "날씨 - 기온: 20도 / 강수량: 0mm / 풍속: 1.6m/s / 습도: 70% / 적설: 0cm / 미세먼지농도: 80㎍/㎥\n",
    "'''\n",
    "my_data_1 = [[20, 0, 1.6, 70, 0, 80, 1, #날씨&평일여부\n",
    "              0, 0, 0, 0, 0, #대여소번호\n",
    "              1, 0, 0, 0, 0, \n",
    "              0, 0, 0, 0, 0,\n",
    "              0, 0, 0, 0, 0,\n",
    "              0, 0, 0, 0, 0,\n",
    "              0, 0, 0, 0, \n",
    "              0, 0, 0, 0, 1, 0, 0, #시간대\n",
    "              0, 0, 0, 1, 0, 0, 0, 0, 0, 0, 0]] #대여월\n",
    "\n",
    "'''\n",
    "대여소 - 207번 여의나루역 1번출구 앞 (30개 대여소 중 대여건수가 가장 많은 대여소)\n",
    "시간대 - 평일: 0(휴일) / 월: 5월 / 시간대: 7(20-22시) (휴일 저녁 시간대)\n",
    "날씨 - 기온: 20도 / 강수량: 0mm / 풍속: 1.6m/s / 습도: 70% / 적설: 0cm / 미세먼지농도: 80㎍/㎥\n",
    "'''\n",
    "my_data_2 = [[20, 0, 1.6, 70, 0, 80, 0, #날씨&평일여부\n",
    "              1, 0, 0, 0, 0, #대여소번호\n",
    "              0, 0, 0, 0, 0, \n",
    "              0, 0, 0, 0, 0,\n",
    "              0, 0, 0, 0, 0,\n",
    "              0, 0, 0, 0, 0,\n",
    "              0, 0, 0, 0, \n",
    "              0, 0, 0, 0, 0, 1, 0, #시간대\n",
    "              0, 0, 0, 1, 0, 0, 0, 0, 0, 0, 0]] #대여월"
   ]
  },
  {
   "cell_type": "code",
   "execution_count": 104,
   "id": "9f0e4b9b-09ec-4e9b-89af-a17b413242d5",
   "metadata": {},
   "outputs": [
    {
     "name": "stdout",
     "output_type": "stream",
     "text": [
      "따릉이 예상 대여건수는 28대, 예상 반납건수는 27대 입니다.\n",
      "--> 따릉이 부족! 따릉이가 약 1대 더 필요합니다.\n"
     ]
    }
   ],
   "source": [
    "### my_data_1 수요 예측\n",
    "bike_demand(my_data_1)"
   ]
  },
  {
   "cell_type": "code",
   "execution_count": 105,
   "id": "0bad0988-e393-4d59-bcdf-388dcb1915e5",
   "metadata": {},
   "outputs": [
    {
     "name": "stdout",
     "output_type": "stream",
     "text": [
      "따릉이 예상 대여건수는 76대, 예상 반납건수는 172대 입니다.\n",
      "--> 따릉이가 약 96대 남아있습니다.\n"
     ]
    }
   ],
   "source": [
    "### my_data_2 수요 예측\n",
    "bike_demand(my_data_2)"
   ]
  },
  {
   "cell_type": "code",
   "execution_count": null,
   "id": "833c25d2-8ae6-45f8-ad88-fb0a7db370fc",
   "metadata": {},
   "outputs": [],
   "source": []
  }
 ],
 "metadata": {
  "kernelspec": {
   "display_name": "Python 3 (ipykernel)",
   "language": "python",
   "name": "python3"
  },
  "language_info": {
   "codemirror_mode": {
    "name": "ipython",
    "version": 3
   },
   "file_extension": ".py",
   "mimetype": "text/x-python",
   "name": "python",
   "nbconvert_exporter": "python",
   "pygments_lexer": "ipython3",
   "version": "3.11.5"
  }
 },
 "nbformat": 4,
 "nbformat_minor": 5
}
